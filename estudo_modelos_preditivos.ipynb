{
 "cells": [
  {
   "cell_type": "markdown",
   "id": "90ea1dce-322a-4041-93b6-dd75f8e43805",
   "metadata": {},
   "source": [
    "<center><h1>A shortly introduction of Model Development, Evaluation, Refinement, Test and Decision Making</h1></center>"
   ]
  },
  {
   "cell_type": "markdown",
   "id": "1b44e695-dd6a-4ed0-8d69-b9b2174c92dc",
   "metadata": {},
   "source": [
    "<h3> Motivations and Objectives</h3>\n",
    "<details><summary></summary>\n",
    "\n",
    "Nowadays, the importance of prediction is influencing much and much more in decision making and on enterprise market.\n",
    "Data Science tries to give more resources to professionals like engineers who sometimes have to turn around to look for a solution.\n",
    "\n",
    "With this lab you will be able to:\n",
    "*   Introduce how model works\n",
    "*   Develop prediction models\n",
    "*   Evaluate and refine prediction models\n",
    "\n",
    "\n",
    "<p>Starting here, we will develop several models that will predict the target using variables or features. This is just an estimate but should give us an objective idea of what should be in real world.</p>\n",
    "\n",
    "</details>"
   ]
  },
  {
   "cell_type": "markdown",
   "id": "5f503d8a-f899-486c-a98f-b6344485ab32",
   "metadata": {},
   "source": [
    "<h3>Table of Contents</h3>\n",
    "<details><summary></summary>\n",
    "\n",
    "- [Theory](#Theory)\n",
    "- [Setting up](#Setting-up)\n",
    "- [Data Set](#Data-Set)\n",
    "- [Simple Linear Regression Model (SLR)](#Simple-Linear-Regression-Model-(SLR))\n",
    "- [Multiple Linear Regression Model (MLR)](#Multiple-Linear-Regression-Model-(MLR))\n",
    "- [Polynomial Regression (PLR)](#Polynomial-Regression-(PLR))\n",
    "- [Multivariate Polynomial Regression and Pipelines (MVP)](#Multivariate-Polynomial-Regression-and-Pipelines-(MVP))\n",
    "- [Ridge Regression (RDG)](#Ridge-Regression-(RDG))\n",
    "- [Grid Search (GRD)](#Grid-Search-(GRD))\n",
    "- [Measures for InSample Evaluation and Model Visualizations](#Measures-for-InSample-Evaluation-and-Model-Visualizations)\n",
    "- [Copyright](#Author)\n",
    "\n",
    "\n",
    "</details>"
   ]
  },
  {
   "cell_type": "markdown",
   "id": "262ac9d1-0086-4416-815a-b71ab7eed067",
   "metadata": {},
   "source": [
    "[top](#Table-of-Contents)\n",
    "<h3>Theory</h3>\n",
    "<details><summary></summary>\n",
    "\n",
    "<p>In DataScience, we often use <b>Model Development</b> to help us predict future observations from the data we have.</p>\n",
    "\n",
    "<p>A model will help us understand the exact relationship between different variables and how these variables are used to predict the result.</p>\n",
    "\n",
    "For example: some questions that we want to get answers before taking a decision. Let's see:\n",
    "<ul>\n",
    "    <li>Do I know if the dealer is offering fair value for my trade-in?</li>\n",
    "    <li>Do I know if I put a fair value on my car?</li>\n",
    "</ul>\n",
    "\n",
    "<p>.</p>\n",
    "\n",
    "<p>.</p>\n",
    "\n",
    "<p><b><h4>Linear Regression</h4></b></p>\n",
    "\n",
    "One example of a Data Model that we will be using is: Simple Linear Regression.\n",
    "\n",
    "Simple Linear Regression is a method to help us understand the relationship between two variables:\n",
    "- The predictor/independent variable (X);\n",
    "- The response/dependent variable (that we want to predict)(Y).\n",
    "\n",
    "The result of Linear Regression is a linear function that predicts the response (dependent) variable as a function of the predictor (independent) variable.\n",
    "\n",
    "Linear Function:\n",
    "<center>𝑌 = 𝑎+𝑏*𝑋;</center>\n",
    "where:\n",
    "\n",
    "- \"a\" refers to the intercept of the regression line, in other words: the value of Y when X is 0;\n",
    "- \"b\" refers to the slope of the regression line, in other words: the value with which Y changes when X increases.\n",
    "\n",
    "What is the final estimated linear model we get?\n",
    "\n",
    "As we saw above, we should get a final linear model with the structure:\n",
    "<center>𝑌ℎ𝑎𝑡 = 𝑎+𝑏*𝑋;</center>\n",
    "where:\n",
    "\n",
    "- 𝑌ℎ𝑎𝑡: Response variable when we try to predict based on trained model and already identified the \"a\" and \"b terms.\n",
    "\n",
    "<p>.</p>\n",
    "\n",
    "<p>.</p>\n",
    "\n",
    "<p><b><h4>Multiple Linear Regression</h4></b></p>\n",
    "\n",
    "What if we want to predict something using more than one variable?\n",
    "\n",
    "If we want to use more variables in our model to predict, we can use Multiple Linear Regression.\n",
    "\n",
    "Multiple Linear Regression is very similar to Simple Linear Regression, but this method is used to explain the relationship between one continuous response (dependent) variable and two or more predictor (independent) variables.\n",
    "\n",
    "Most of the real-world regression models involve multiple predictors. We will illustrate the structure by using four predictor variables, but these results can generalize to any integer. The equation is given by:\n",
    "<center>𝑌 = 𝑎+𝑏_1*𝑋_1+𝑏_2*𝑋_2+𝑏_3*𝑋_3+𝑏_4*𝑋_4+(...);</center>\n",
    "where:\n",
    "\n",
    "- 𝑌:𝑅𝑒𝑠𝑝𝑜𝑛𝑠𝑒 𝑉𝑎𝑟𝑖𝑎𝑏𝑙𝑒\n",
    "- 𝑋_1:𝑃𝑟𝑒𝑑𝑖𝑐𝑡𝑜𝑟 𝑉𝑎𝑟𝑖𝑎𝑏𝑙𝑒 1\n",
    "- 𝑋_2:𝑃𝑟𝑒𝑑𝑖𝑐𝑡𝑜𝑟 𝑉𝑎𝑟𝑖𝑎𝑏𝑙𝑒 2\n",
    "- 𝑋_3:𝑃𝑟𝑒𝑑𝑖𝑐𝑡𝑜𝑟 𝑉𝑎𝑟𝑖𝑎𝑏𝑙𝑒 3\n",
    "- 𝑋_4:𝑃𝑟𝑒𝑑𝑖𝑐𝑡𝑜𝑟 𝑉𝑎𝑟𝑖𝑎𝑏𝑙𝑒 4 (... and so on)\n",
    "\n",
    "- 𝑎:𝑖𝑛𝑡𝑒𝑟𝑐𝑒𝑝𝑡\n",
    "- 𝑏_1:𝑐𝑜𝑒𝑓𝑓𝑖𝑐𝑖𝑒𝑛𝑡𝑠 𝑜𝑓 𝑉𝑎𝑟𝑖𝑎𝑏𝑙𝑒 1\n",
    "- 𝑏_2:𝑐𝑜𝑒𝑓𝑓𝑖𝑐𝑖𝑒𝑛𝑡𝑠 𝑜𝑓 𝑉𝑎𝑟𝑖𝑎𝑏𝑙𝑒 2\n",
    "- 𝑏_3:𝑐𝑜𝑒𝑓𝑓𝑖𝑐𝑖𝑒𝑛𝑡𝑠 𝑜𝑓 𝑉𝑎𝑟𝑖𝑎𝑏𝑙𝑒 3\n",
    "- 𝑏_4:𝑐𝑜𝑒𝑓𝑓𝑖𝑐𝑖𝑒𝑛𝑡𝑠 𝑜𝑓 𝑉𝑎𝑟𝑖𝑎𝑏𝑙𝑒 4 (... and so on)\n",
    "\n",
    "So, once the model is trained and the \"a\" and \"b\"s are known, we can try to get the 𝑌ℎ𝑎𝑡, as the same way as before, changing 𝑌 to 𝑌ℎ𝑎𝑡.\n",
    "\n",
    "<p>.</p>\n",
    "\n",
    "<p>.</p>\n",
    "\n",
    "<p><b><h4>Polynomial regression</h4></b></p> \n",
    "\n",
    "It's a particular case of the general linear regression model or multiple linear regression models.\n",
    "\n",
    "We get non-linear relationships by squaring or setting higher-order terms of the predictor variables.\n",
    "\n",
    "There are different orders of polynomial regression:\n",
    "\n",
    "<center><b>Quadratic - 2nd Order</b></center>\n",
    "$$\n",
    "Yhat = a + b_1 X +b_2 X^2 \n",
    "$$\n",
    "\n",
    "<center><b>Cubic - 3rd Order</b></center>\n",
    "$$\n",
    "Yhat = a + b_1 X +b_2 X^2 +b_3 X^3\\\\\\\\\n",
    "$$\n",
    "\n",
    "<center><b>Higher-Order</b>:</center>\n",
    "$$\n",
    "Yhat = a + b_1 X +b_2 X^2 +b_3 X^3 ....\\\\\\\\\n",
    "$$\n",
    "\n",
    "<p>.</p>\n",
    "\n",
    "<p>.</p>\n",
    "\n",
    "<p><b><h4>Multivariate Polynomial Function</h4></b></p>\n",
    "\n",
    "Similarly before, the analytical expression for Multivariate Polynomial function try to hit more accuracy but, gets complicated. For example, the expression for a second-order (degree=2) polynomial with two variables is given by:\n",
    "\n",
    "$$\n",
    "Yhat = a + b\\_1 X\\_1 +b\\_2 X\\_2 +b\\_3 X\\_1 X\\_2+b\\_4 X\\_1^2+b\\_5 X\\_2^2\n",
    "$$\n",
    "\n",
    "<p>.</p>\n",
    "\n",
    "<p>.</p>\n",
    "\n",
    "<p><b><h4>Measures and Evaluation</h4></b></p>\n",
    "\n",
    "When evaluating our models, not only do we want to visualize the results, but we also want a quantitative measure to determine how accurate the model is.\n",
    "\n",
    "Two very important measures that are often used in Statistics to determine the accuracy of a model are:\n",
    "\n",
    "- Mean Squared Error (MSE)\n",
    "- R^2 / R-squared\n",
    "\n",
    "Mean Squared Error (MSE): measures the average of the squares of errors. That is, the difference between actual value (y) and the estimated value (ŷ or, sometimes called as Yhat).\n",
    "\n",
    "R-squared: also known as the coefficient of determination, is a measure to indicate how close the data is to the fitted regression line. The value of the R-squared is the percentage of variation of the response variable (y) that is explained by a linear model.\n",
    "\n",
    "<p>.</p>\n",
    "\n",
    "<p>.</p>\n",
    "\n",
    "<p><b><h4>Underfitting and Overfitting</h4></b></p>\n",
    "\n",
    "Underfitting: Sometimes we do not have sufficient testing data and as a result, you may want to perform cross-validation.\n",
    "\n",
    "Overfitting occurs when the model fits some noise, but not only the underlying process. Therefore, when testing your model using the test set, your model does not perform as well since it is modelling noise, not the underlying process that generated the relationship.\n",
    "\n",
    "There are three basics points that we should pay attention to solve this:\n",
    "- the ammount of data gathered;\n",
    "- the function order\n",
    "- noise\n",
    "\n",
    "</details>"
   ]
  },
  {
   "cell_type": "markdown",
   "id": "107233a1-0c85-4f1c-8651-8572ebb09391",
   "metadata": {},
   "source": [
    "\n"
   ]
  },
  {
   "cell_type": "markdown",
   "id": "3d42d610-da48-4307-af60-547cf0d86c77",
   "metadata": {},
   "source": [
    "[top](#Table-of-Contents)\n",
    "<h3>Setting up</h3>\n",
    "<details><summary></summary>\n",
    "\n",
    "```python\n",
    "\n",
    "```\n",
    "</details>"
   ]
  },
  {
   "cell_type": "code",
   "execution_count": 1,
   "id": "217a995c-37d1-4527-b8a5-3bc600c726f7",
   "metadata": {
    "tags": []
   },
   "outputs": [],
   "source": [
    "# First, let's import basic libs:\n",
    "import numpy as np\n",
    "import pandas as pd\n",
    "\n",
    "# Importing the visualization packages:\n",
    "import matplotlib.pyplot as plt    # PyPlot / Matplotlib\n",
    "import seaborn as sns              # Seaborn\n",
    "\n",
    "%matplotlib inline\n",
    "# The output of plotting commands, using the \"%inline\" is displayed inline within frontends like the Jupyter \n",
    "# Notebook, directly below the code cell that produced it. ( https://stackoverflow.com/q/43027980 )\n",
    "\n",
    "# From Scikit-Learn, let's load the modules ahead:\n",
    "from sklearn.preprocessing import PolynomialFeatures, StandardScaler    # Importing a polynomial features module\n",
    "from sklearn.linear_model import LinearRegression, Ridge                # for linear regression model and Ridge model\n",
    "from sklearn.pipeline import Pipeline\n",
    "\n",
    "# To split dataset in train and test sub-datasets\n",
    "from sklearn.model_selection import train_test_split, cross_val_score, cross_val_predict, GridSearchCV\n",
    "\n",
    "# At last, let's import the functions mean_squared_error and r2_score from the module metrics:\n",
    "from sklearn.metrics import mean_squared_error, r2_score\n",
    "\n",
    "# To draw progression bar while processing:\n",
    "from tqdm import tqdm"
   ]
  },
  {
   "cell_type": "markdown",
   "id": "9e044d3e-4133-430d-97cc-e019585562c7",
   "metadata": {},
   "source": [
    "[top](#Table-of-Contents)\n",
    "<h3>Data Set</h3>\n",
    "<details><summary></summary>\n",
    "\n",
    "The used dataset can be originally found under the Index of heart disease datasets from UCI Machine Learning Repository on the following link:\n",
    "https://archive.ics.uci.edu/ml/machine-learning-databases/heart-disease/.\n",
    "\n",
    "It is also available under citation: fedesoriano. (September 2021). Heart Failure Prediction Dataset. Retrieved [Date Retrieved] from\n",
    "https://www.kaggle.com/fedesoriano/heart-failure-prediction; on Kaggle.com.\n",
    "(or kaggle datasets download -d fedesoriano/heart-failure-prediction)\n",
    "\n",
    "This dataset was created by combining different datasets already available independently but not combined before. In this dataset, 5 heart datasets are combined over 11 common features which makes it the largest heart disease dataset available so far for research purposes.\n",
    "    \n",
    "Original Attributes Informations:\n",
    "\n",
    "    Age: age of the patient\n",
    "    [years]\n",
    "    \n",
    "    Sex: sex of the patient\n",
    "    [M: Male, F: Female]\n",
    "    \n",
    "    ChestPainType: chest pain type\n",
    "    [TA: Typical Angina, ATA: Atypical Angina, NAP: Non-Anginal Pain, ASY: Asymptomatic]\n",
    "    \n",
    "    RestingBP: resting blood pressure\n",
    "    [mm Hg]\n",
    "    \n",
    "    Cholesterol: serum cholesterol\n",
    "    [mm/dl]\n",
    "    \n",
    "    FastingBS: fasting blood sugar\n",
    "    [1: if FastingBS > 120 mg/dl, 0: otherwise]\n",
    "    \n",
    "    RestingECG: resting electrocardiogram results\n",
    "    [Normal: Normal, ST: having ST-T wave abnormality (T wave inversions and/or ST elevation or depression of > 0.05 mV), LVH: showing probable or definite left ventricular hypertrophy by Estes' criteria]\n",
    "    \n",
    "    MaxHR: maximum heart rate achieved\n",
    "    [Numeric value between 60 and 202]\n",
    "    \n",
    "    ExerciseAngina: exercise-induced angina\n",
    "    [Y: Yes, N: No]\n",
    "    \n",
    "    Oldpeak: oldpeak = ST\n",
    "    [Numeric value measured in depression]\n",
    "    \n",
    "    ST_Slope: the slope of the peak exercise ST segment\n",
    "    [Up: upsloping, Flat: flat, Down: downsloping]\n",
    "    \n",
    "    HeartDisease: output class\n",
    "    [1: heart disease, 0: Normal]\n",
    "\n",
    "</details>"
   ]
  },
  {
   "cell_type": "code",
   "execution_count": 2,
   "id": "6dca7f3c-39c7-4e7a-88ed-3e70cb8f5a97",
   "metadata": {},
   "outputs": [
    {
     "data": {
      "text/html": [
       "<div>\n",
       "<style scoped>\n",
       "    .dataframe tbody tr th:only-of-type {\n",
       "        vertical-align: middle;\n",
       "    }\n",
       "\n",
       "    .dataframe tbody tr th {\n",
       "        vertical-align: top;\n",
       "    }\n",
       "\n",
       "    .dataframe thead th {\n",
       "        text-align: right;\n",
       "    }\n",
       "</style>\n",
       "<table border=\"1\" class=\"dataframe\">\n",
       "  <thead>\n",
       "    <tr style=\"text-align: right;\">\n",
       "      <th></th>\n",
       "      <th>Age</th>\n",
       "      <th>Sex</th>\n",
       "      <th>ChestPainType</th>\n",
       "      <th>RestingBP</th>\n",
       "      <th>Cholesterol</th>\n",
       "      <th>FastingBS</th>\n",
       "      <th>RestingECG</th>\n",
       "      <th>MaxHR</th>\n",
       "      <th>ExerciseAngina</th>\n",
       "      <th>Oldpeak</th>\n",
       "      <th>ST_Slope</th>\n",
       "      <th>HeartDisease</th>\n",
       "    </tr>\n",
       "  </thead>\n",
       "  <tbody>\n",
       "    <tr>\n",
       "      <th>0</th>\n",
       "      <td>40</td>\n",
       "      <td>M</td>\n",
       "      <td>ATA</td>\n",
       "      <td>140</td>\n",
       "      <td>289</td>\n",
       "      <td>0</td>\n",
       "      <td>Normal</td>\n",
       "      <td>172</td>\n",
       "      <td>N</td>\n",
       "      <td>0.0</td>\n",
       "      <td>Up</td>\n",
       "      <td>0</td>\n",
       "    </tr>\n",
       "    <tr>\n",
       "      <th>1</th>\n",
       "      <td>49</td>\n",
       "      <td>F</td>\n",
       "      <td>NAP</td>\n",
       "      <td>160</td>\n",
       "      <td>180</td>\n",
       "      <td>0</td>\n",
       "      <td>Normal</td>\n",
       "      <td>156</td>\n",
       "      <td>N</td>\n",
       "      <td>1.0</td>\n",
       "      <td>Flat</td>\n",
       "      <td>1</td>\n",
       "    </tr>\n",
       "    <tr>\n",
       "      <th>2</th>\n",
       "      <td>37</td>\n",
       "      <td>M</td>\n",
       "      <td>ATA</td>\n",
       "      <td>130</td>\n",
       "      <td>283</td>\n",
       "      <td>0</td>\n",
       "      <td>ST</td>\n",
       "      <td>98</td>\n",
       "      <td>N</td>\n",
       "      <td>0.0</td>\n",
       "      <td>Up</td>\n",
       "      <td>0</td>\n",
       "    </tr>\n",
       "    <tr>\n",
       "      <th>3</th>\n",
       "      <td>48</td>\n",
       "      <td>F</td>\n",
       "      <td>ASY</td>\n",
       "      <td>138</td>\n",
       "      <td>214</td>\n",
       "      <td>0</td>\n",
       "      <td>Normal</td>\n",
       "      <td>108</td>\n",
       "      <td>Y</td>\n",
       "      <td>1.5</td>\n",
       "      <td>Flat</td>\n",
       "      <td>1</td>\n",
       "    </tr>\n",
       "    <tr>\n",
       "      <th>4</th>\n",
       "      <td>54</td>\n",
       "      <td>M</td>\n",
       "      <td>NAP</td>\n",
       "      <td>150</td>\n",
       "      <td>195</td>\n",
       "      <td>0</td>\n",
       "      <td>Normal</td>\n",
       "      <td>122</td>\n",
       "      <td>N</td>\n",
       "      <td>0.0</td>\n",
       "      <td>Up</td>\n",
       "      <td>0</td>\n",
       "    </tr>\n",
       "  </tbody>\n",
       "</table>\n",
       "</div>"
      ],
      "text/plain": [
       "   Age Sex ChestPainType  RestingBP  Cholesterol  FastingBS RestingECG  MaxHR  \\\n",
       "0   40   M           ATA        140          289          0     Normal    172   \n",
       "1   49   F           NAP        160          180          0     Normal    156   \n",
       "2   37   M           ATA        130          283          0         ST     98   \n",
       "3   48   F           ASY        138          214          0     Normal    108   \n",
       "4   54   M           NAP        150          195          0     Normal    122   \n",
       "\n",
       "  ExerciseAngina  Oldpeak ST_Slope  HeartDisease  \n",
       "0              N      0.0       Up             0  \n",
       "1              N      1.0     Flat             1  \n",
       "2              N      0.0       Up             0  \n",
       "3              Y      1.5     Flat             1  \n",
       "4              N      0.0       Up             0  "
      ]
     },
     "execution_count": 2,
     "metadata": {},
     "output_type": "execute_result"
    }
   ],
   "source": [
    "# Loading the data and store it in dataframe `df`:\n",
    "\n",
    "path = '/home/rene/GitHub/estudo_modelos_preditivos/heart.csv' # path of data\n",
    "\n",
    "df = pd.read_csv(path)\n",
    "df.head() # Preview the first 5 lines of the imported dataset"
   ]
  },
  {
   "cell_type": "code",
   "execution_count": 3,
   "id": "02f9ef3c-d8a5-492d-bcfa-e4c380f3eefb",
   "metadata": {},
   "outputs": [
    {
     "data": {
      "text/plain": [
       "(918, 12)"
      ]
     },
     "execution_count": 3,
     "metadata": {},
     "output_type": "execute_result"
    }
   ],
   "source": [
    "df.shape"
   ]
  },
  {
   "cell_type": "code",
   "execution_count": 4,
   "id": "49c02a80-0cf9-4fb7-bf79-d7a23643386b",
   "metadata": {},
   "outputs": [
    {
     "data": {
      "text/html": [
       "<div>\n",
       "<style scoped>\n",
       "    .dataframe tbody tr th:only-of-type {\n",
       "        vertical-align: middle;\n",
       "    }\n",
       "\n",
       "    .dataframe tbody tr th {\n",
       "        vertical-align: top;\n",
       "    }\n",
       "\n",
       "    .dataframe thead th {\n",
       "        text-align: right;\n",
       "    }\n",
       "</style>\n",
       "<table border=\"1\" class=\"dataframe\">\n",
       "  <thead>\n",
       "    <tr style=\"text-align: right;\">\n",
       "      <th></th>\n",
       "      <th>Age</th>\n",
       "      <th>RestingBP</th>\n",
       "      <th>Cholesterol</th>\n",
       "      <th>FastingBS</th>\n",
       "      <th>MaxHR</th>\n",
       "      <th>Oldpeak</th>\n",
       "      <th>HeartDisease</th>\n",
       "    </tr>\n",
       "  </thead>\n",
       "  <tbody>\n",
       "    <tr>\n",
       "      <th>count</th>\n",
       "      <td>918.000000</td>\n",
       "      <td>918.000000</td>\n",
       "      <td>918.000000</td>\n",
       "      <td>918.000000</td>\n",
       "      <td>918.000000</td>\n",
       "      <td>918.000000</td>\n",
       "      <td>918.000000</td>\n",
       "    </tr>\n",
       "    <tr>\n",
       "      <th>mean</th>\n",
       "      <td>53.510893</td>\n",
       "      <td>132.396514</td>\n",
       "      <td>198.799564</td>\n",
       "      <td>0.233115</td>\n",
       "      <td>136.809368</td>\n",
       "      <td>0.887364</td>\n",
       "      <td>0.553377</td>\n",
       "    </tr>\n",
       "    <tr>\n",
       "      <th>std</th>\n",
       "      <td>9.432617</td>\n",
       "      <td>18.514154</td>\n",
       "      <td>109.384145</td>\n",
       "      <td>0.423046</td>\n",
       "      <td>25.460334</td>\n",
       "      <td>1.066570</td>\n",
       "      <td>0.497414</td>\n",
       "    </tr>\n",
       "    <tr>\n",
       "      <th>min</th>\n",
       "      <td>28.000000</td>\n",
       "      <td>0.000000</td>\n",
       "      <td>0.000000</td>\n",
       "      <td>0.000000</td>\n",
       "      <td>60.000000</td>\n",
       "      <td>-2.600000</td>\n",
       "      <td>0.000000</td>\n",
       "    </tr>\n",
       "    <tr>\n",
       "      <th>25%</th>\n",
       "      <td>47.000000</td>\n",
       "      <td>120.000000</td>\n",
       "      <td>173.250000</td>\n",
       "      <td>0.000000</td>\n",
       "      <td>120.000000</td>\n",
       "      <td>0.000000</td>\n",
       "      <td>0.000000</td>\n",
       "    </tr>\n",
       "    <tr>\n",
       "      <th>50%</th>\n",
       "      <td>54.000000</td>\n",
       "      <td>130.000000</td>\n",
       "      <td>223.000000</td>\n",
       "      <td>0.000000</td>\n",
       "      <td>138.000000</td>\n",
       "      <td>0.600000</td>\n",
       "      <td>1.000000</td>\n",
       "    </tr>\n",
       "    <tr>\n",
       "      <th>75%</th>\n",
       "      <td>60.000000</td>\n",
       "      <td>140.000000</td>\n",
       "      <td>267.000000</td>\n",
       "      <td>0.000000</td>\n",
       "      <td>156.000000</td>\n",
       "      <td>1.500000</td>\n",
       "      <td>1.000000</td>\n",
       "    </tr>\n",
       "    <tr>\n",
       "      <th>max</th>\n",
       "      <td>77.000000</td>\n",
       "      <td>200.000000</td>\n",
       "      <td>603.000000</td>\n",
       "      <td>1.000000</td>\n",
       "      <td>202.000000</td>\n",
       "      <td>6.200000</td>\n",
       "      <td>1.000000</td>\n",
       "    </tr>\n",
       "  </tbody>\n",
       "</table>\n",
       "</div>"
      ],
      "text/plain": [
       "              Age   RestingBP  Cholesterol   FastingBS       MaxHR  \\\n",
       "count  918.000000  918.000000   918.000000  918.000000  918.000000   \n",
       "mean    53.510893  132.396514   198.799564    0.233115  136.809368   \n",
       "std      9.432617   18.514154   109.384145    0.423046   25.460334   \n",
       "min     28.000000    0.000000     0.000000    0.000000   60.000000   \n",
       "25%     47.000000  120.000000   173.250000    0.000000  120.000000   \n",
       "50%     54.000000  130.000000   223.000000    0.000000  138.000000   \n",
       "75%     60.000000  140.000000   267.000000    0.000000  156.000000   \n",
       "max     77.000000  200.000000   603.000000    1.000000  202.000000   \n",
       "\n",
       "          Oldpeak  HeartDisease  \n",
       "count  918.000000    918.000000  \n",
       "mean     0.887364      0.553377  \n",
       "std      1.066570      0.497414  \n",
       "min     -2.600000      0.000000  \n",
       "25%      0.000000      0.000000  \n",
       "50%      0.600000      1.000000  \n",
       "75%      1.500000      1.000000  \n",
       "max      6.200000      1.000000  "
      ]
     },
     "execution_count": 4,
     "metadata": {},
     "output_type": "execute_result"
    }
   ],
   "source": [
    "df.describe()"
   ]
  },
  {
   "cell_type": "code",
   "execution_count": 5,
   "id": "85216170-077f-4b34-956c-1d8b78e1609f",
   "metadata": {},
   "outputs": [
    {
     "data": {
      "text/plain": [
       "M    725\n",
       "F    193\n",
       "Name: Sex, dtype: int64"
      ]
     },
     "execution_count": 5,
     "metadata": {},
     "output_type": "execute_result"
    }
   ],
   "source": [
    "df['Sex'].value_counts()"
   ]
  },
  {
   "cell_type": "code",
   "execution_count": 6,
   "id": "399784df-3647-40fa-a9de-9cb2a0f6f56e",
   "metadata": {},
   "outputs": [
    {
     "name": "stderr",
     "output_type": "stream",
     "text": [
      "/home/rene/anaconda3/lib/python3.8/site-packages/pandas/core/indexing.py:1637: SettingWithCopyWarning: \n",
      "A value is trying to be set on a copy of a slice from a DataFrame\n",
      "\n",
      "See the caveats in the documentation: https://pandas.pydata.org/pandas-docs/stable/user_guide/indexing.html#returning-a-view-versus-a-copy\n",
      "  self._setitem_single_block(indexer, value, name)\n"
     ]
    }
   ],
   "source": [
    "# Setting 0 (zero) for Male and 1 (one) for Female, in \"Sex\" column:\n",
    "\n",
    "df['Sex'].loc[df['Sex'] == 'M'] = 0\n",
    "df['Sex'].loc[df['Sex'] == 'F'] = 1"
   ]
  },
  {
   "cell_type": "code",
   "execution_count": 7,
   "id": "25533cea-98a9-452a-af3a-fcd6eade7a00",
   "metadata": {},
   "outputs": [
    {
     "data": {
      "text/plain": [
       "0    725\n",
       "1    193\n",
       "Name: Sex, dtype: int64"
      ]
     },
     "execution_count": 7,
     "metadata": {},
     "output_type": "execute_result"
    }
   ],
   "source": [
    "# Confirming that the change was successful:\n",
    "\n",
    "df['Sex'].value_counts()"
   ]
  },
  {
   "cell_type": "code",
   "execution_count": 8,
   "id": "934581be-4f5e-4662-995a-fab8a60ecf4f",
   "metadata": {},
   "outputs": [
    {
     "data": {
      "text/plain": [
       "ASY    496\n",
       "NAP    203\n",
       "ATA    173\n",
       "TA      46\n",
       "Name: ChestPainType, dtype: int64"
      ]
     },
     "execution_count": 8,
     "metadata": {},
     "output_type": "execute_result"
    }
   ],
   "source": [
    "df['ChestPainType'].value_counts()"
   ]
  },
  {
   "cell_type": "code",
   "execution_count": 9,
   "id": "5be62bb3-c7f6-4073-b0c7-082a73c90495",
   "metadata": {},
   "outputs": [],
   "source": [
    "# Setting 1 (one) for Asymptomatic, 2 for Non-Anginal Pain, 3 for Atypical Angina and 4, Typical Angina:\n",
    "\n",
    "df['ChestPainType'].loc[df['ChestPainType'] == 'ASY'] = 1\n",
    "df['ChestPainType'].loc[df['ChestPainType'] == 'NAP'] = 2\n",
    "df['ChestPainType'].loc[df['ChestPainType'] == 'ATA'] = 3\n",
    "df['ChestPainType'].loc[df['ChestPainType'] == 'TA'] = 4"
   ]
  },
  {
   "cell_type": "code",
   "execution_count": 10,
   "id": "b7222920-c56f-4b51-aa40-3a63dbd2ec0f",
   "metadata": {},
   "outputs": [
    {
     "data": {
      "text/plain": [
       "1    496\n",
       "2    203\n",
       "3    173\n",
       "4     46\n",
       "Name: ChestPainType, dtype: int64"
      ]
     },
     "execution_count": 10,
     "metadata": {},
     "output_type": "execute_result"
    }
   ],
   "source": [
    "# Confirming that the change was successful:\n",
    "\n",
    "df['ChestPainType'].value_counts()"
   ]
  },
  {
   "cell_type": "code",
   "execution_count": 11,
   "id": "72ae3cb1-c729-4adf-91fd-f3b03cd1c095",
   "metadata": {},
   "outputs": [
    {
     "data": {
      "text/plain": [
       "Normal    552\n",
       "LVH       188\n",
       "ST        178\n",
       "Name: RestingECG, dtype: int64"
      ]
     },
     "execution_count": 11,
     "metadata": {},
     "output_type": "execute_result"
    }
   ],
   "source": [
    "df['RestingECG'].value_counts()"
   ]
  },
  {
   "cell_type": "code",
   "execution_count": 12,
   "id": "6e691559-1ee8-4074-a17d-aa0923c1008c",
   "metadata": {},
   "outputs": [],
   "source": [
    "# Setting 1 (one) for Normal, 2 for LVH and 3 for ST:\n",
    "\n",
    "df['RestingECG'].loc[df['RestingECG'] == 'Normal'] = 1\n",
    "df['RestingECG'].loc[df['RestingECG'] == 'LVH'] = 2\n",
    "df['RestingECG'].loc[df['RestingECG'] == 'ST'] = 3"
   ]
  },
  {
   "cell_type": "code",
   "execution_count": 13,
   "id": "2f7b9eb3-fcf7-41eb-aa4d-2c7f3702e14d",
   "metadata": {},
   "outputs": [
    {
     "data": {
      "text/plain": [
       "1    552\n",
       "2    188\n",
       "3    178\n",
       "Name: RestingECG, dtype: int64"
      ]
     },
     "execution_count": 13,
     "metadata": {},
     "output_type": "execute_result"
    }
   ],
   "source": [
    "# Confirming that the change was successful:\n",
    "\n",
    "df['RestingECG'].value_counts()"
   ]
  },
  {
   "cell_type": "code",
   "execution_count": 14,
   "id": "234ff670-ba10-4d9d-b268-071988529122",
   "metadata": {},
   "outputs": [
    {
     "data": {
      "text/plain": [
       "N    547\n",
       "Y    371\n",
       "Name: ExerciseAngina, dtype: int64"
      ]
     },
     "execution_count": 14,
     "metadata": {},
     "output_type": "execute_result"
    }
   ],
   "source": [
    "df['ExerciseAngina'].value_counts()"
   ]
  },
  {
   "cell_type": "code",
   "execution_count": 15,
   "id": "8bded8e1-a89d-4b33-ab6a-510dc9e8e182",
   "metadata": {},
   "outputs": [],
   "source": [
    "# Setting 0 (zero) No and 1 for Yes:\n",
    "\n",
    "df['ExerciseAngina'].loc[df['ExerciseAngina'] == 'N'] = 0\n",
    "df['ExerciseAngina'].loc[df['ExerciseAngina'] == 'Y'] = 1"
   ]
  },
  {
   "cell_type": "code",
   "execution_count": 16,
   "id": "7d13623a-5ce6-458e-9dd3-e3714163e7c4",
   "metadata": {},
   "outputs": [
    {
     "data": {
      "text/plain": [
       "0    547\n",
       "1    371\n",
       "Name: ExerciseAngina, dtype: int64"
      ]
     },
     "execution_count": 16,
     "metadata": {},
     "output_type": "execute_result"
    }
   ],
   "source": [
    "# Confirming that the change was successful:\n",
    "\n",
    "df['ExerciseAngina'].value_counts()"
   ]
  },
  {
   "cell_type": "code",
   "execution_count": 17,
   "id": "2d0222e3-2045-4063-bccd-3b907c80c419",
   "metadata": {},
   "outputs": [
    {
     "data": {
      "text/plain": [
       "Flat    460\n",
       "Up      395\n",
       "Down     63\n",
       "Name: ST_Slope, dtype: int64"
      ]
     },
     "execution_count": 17,
     "metadata": {},
     "output_type": "execute_result"
    }
   ],
   "source": [
    "df['ST_Slope'].value_counts()"
   ]
  },
  {
   "cell_type": "code",
   "execution_count": 18,
   "id": "fa0a3710-377f-4a7b-8be6-095251da4498",
   "metadata": {},
   "outputs": [],
   "source": [
    "# Setting 1 for Down, 2 for Flat and 3 for Up:\n",
    "\n",
    "df['ST_Slope'].loc[df['ST_Slope'] == 'Down'] = 1\n",
    "df['ST_Slope'].loc[df['ST_Slope'] == 'Flat'] = 2\n",
    "df['ST_Slope'].loc[df['ST_Slope'] == 'Up'] = 3"
   ]
  },
  {
   "cell_type": "code",
   "execution_count": 19,
   "id": "fb96bad0-0ead-4260-aeaf-625e5c970ad0",
   "metadata": {
    "tags": []
   },
   "outputs": [
    {
     "data": {
      "text/plain": [
       "2    460\n",
       "3    395\n",
       "1     63\n",
       "Name: ST_Slope, dtype: int64"
      ]
     },
     "execution_count": 19,
     "metadata": {},
     "output_type": "execute_result"
    }
   ],
   "source": [
    "# Confirming that the change was successful:\n",
    "\n",
    "df['ST_Slope'].value_counts()"
   ]
  },
  {
   "cell_type": "code",
   "execution_count": 20,
   "id": "5dcd32d4-a5aa-44bf-887c-e27e2a6d0e94",
   "metadata": {},
   "outputs": [],
   "source": [
    "df = df.astype({'Sex': 'int64', 'ChestPainType': 'int64', 'RestingECG': 'int64', 'ExerciseAngina': 'int64', 'ST_Slope': 'int64'})"
   ]
  },
  {
   "cell_type": "code",
   "execution_count": 21,
   "id": "10cf54c3-35b0-4c57-97cd-011721b2befc",
   "metadata": {},
   "outputs": [
    {
     "data": {
      "text/html": [
       "<div>\n",
       "<style scoped>\n",
       "    .dataframe tbody tr th:only-of-type {\n",
       "        vertical-align: middle;\n",
       "    }\n",
       "\n",
       "    .dataframe tbody tr th {\n",
       "        vertical-align: top;\n",
       "    }\n",
       "\n",
       "    .dataframe thead th {\n",
       "        text-align: right;\n",
       "    }\n",
       "</style>\n",
       "<table border=\"1\" class=\"dataframe\">\n",
       "  <thead>\n",
       "    <tr style=\"text-align: right;\">\n",
       "      <th></th>\n",
       "      <th>Age</th>\n",
       "      <th>Sex</th>\n",
       "      <th>ChestPainType</th>\n",
       "      <th>RestingBP</th>\n",
       "      <th>Cholesterol</th>\n",
       "      <th>FastingBS</th>\n",
       "      <th>RestingECG</th>\n",
       "      <th>MaxHR</th>\n",
       "      <th>ExerciseAngina</th>\n",
       "      <th>Oldpeak</th>\n",
       "      <th>ST_Slope</th>\n",
       "      <th>HeartDisease</th>\n",
       "    </tr>\n",
       "  </thead>\n",
       "  <tbody>\n",
       "    <tr>\n",
       "      <th>0</th>\n",
       "      <td>40</td>\n",
       "      <td>0</td>\n",
       "      <td>3</td>\n",
       "      <td>140</td>\n",
       "      <td>289</td>\n",
       "      <td>0</td>\n",
       "      <td>1</td>\n",
       "      <td>172</td>\n",
       "      <td>0</td>\n",
       "      <td>0.0</td>\n",
       "      <td>3</td>\n",
       "      <td>0</td>\n",
       "    </tr>\n",
       "    <tr>\n",
       "      <th>1</th>\n",
       "      <td>49</td>\n",
       "      <td>1</td>\n",
       "      <td>2</td>\n",
       "      <td>160</td>\n",
       "      <td>180</td>\n",
       "      <td>0</td>\n",
       "      <td>1</td>\n",
       "      <td>156</td>\n",
       "      <td>0</td>\n",
       "      <td>1.0</td>\n",
       "      <td>2</td>\n",
       "      <td>1</td>\n",
       "    </tr>\n",
       "    <tr>\n",
       "      <th>2</th>\n",
       "      <td>37</td>\n",
       "      <td>0</td>\n",
       "      <td>3</td>\n",
       "      <td>130</td>\n",
       "      <td>283</td>\n",
       "      <td>0</td>\n",
       "      <td>3</td>\n",
       "      <td>98</td>\n",
       "      <td>0</td>\n",
       "      <td>0.0</td>\n",
       "      <td>3</td>\n",
       "      <td>0</td>\n",
       "    </tr>\n",
       "    <tr>\n",
       "      <th>3</th>\n",
       "      <td>48</td>\n",
       "      <td>1</td>\n",
       "      <td>1</td>\n",
       "      <td>138</td>\n",
       "      <td>214</td>\n",
       "      <td>0</td>\n",
       "      <td>1</td>\n",
       "      <td>108</td>\n",
       "      <td>1</td>\n",
       "      <td>1.5</td>\n",
       "      <td>2</td>\n",
       "      <td>1</td>\n",
       "    </tr>\n",
       "    <tr>\n",
       "      <th>4</th>\n",
       "      <td>54</td>\n",
       "      <td>0</td>\n",
       "      <td>2</td>\n",
       "      <td>150</td>\n",
       "      <td>195</td>\n",
       "      <td>0</td>\n",
       "      <td>1</td>\n",
       "      <td>122</td>\n",
       "      <td>0</td>\n",
       "      <td>0.0</td>\n",
       "      <td>3</td>\n",
       "      <td>0</td>\n",
       "    </tr>\n",
       "  </tbody>\n",
       "</table>\n",
       "</div>"
      ],
      "text/plain": [
       "   Age  Sex  ChestPainType  RestingBP  Cholesterol  FastingBS  RestingECG  \\\n",
       "0   40    0              3        140          289          0           1   \n",
       "1   49    1              2        160          180          0           1   \n",
       "2   37    0              3        130          283          0           3   \n",
       "3   48    1              1        138          214          0           1   \n",
       "4   54    0              2        150          195          0           1   \n",
       "\n",
       "   MaxHR  ExerciseAngina  Oldpeak  ST_Slope  HeartDisease  \n",
       "0    172               0      0.0         3             0  \n",
       "1    156               0      1.0         2             1  \n",
       "2     98               0      0.0         3             0  \n",
       "3    108               1      1.5         2             1  \n",
       "4    122               0      0.0         3             0  "
      ]
     },
     "execution_count": 21,
     "metadata": {},
     "output_type": "execute_result"
    }
   ],
   "source": [
    "df.head()"
   ]
  },
  {
   "cell_type": "code",
   "execution_count": 22,
   "id": "484eea89-173b-4aae-b58b-6aa217264c8b",
   "metadata": {},
   "outputs": [
    {
     "data": {
      "text/plain": [
       "Age                 int64\n",
       "Sex                 int64\n",
       "ChestPainType       int64\n",
       "RestingBP           int64\n",
       "Cholesterol         int64\n",
       "FastingBS           int64\n",
       "RestingECG          int64\n",
       "MaxHR               int64\n",
       "ExerciseAngina      int64\n",
       "Oldpeak           float64\n",
       "ST_Slope            int64\n",
       "HeartDisease        int64\n",
       "dtype: object"
      ]
     },
     "execution_count": 22,
     "metadata": {},
     "output_type": "execute_result"
    }
   ],
   "source": [
    "df.dtypes"
   ]
  },
  {
   "cell_type": "code",
   "execution_count": 23,
   "id": "a9f50cbf-993b-475b-be1e-03ee79ec8c8c",
   "metadata": {},
   "outputs": [
    {
     "data": {
      "text/html": [
       "<div>\n",
       "<style scoped>\n",
       "    .dataframe tbody tr th:only-of-type {\n",
       "        vertical-align: middle;\n",
       "    }\n",
       "\n",
       "    .dataframe tbody tr th {\n",
       "        vertical-align: top;\n",
       "    }\n",
       "\n",
       "    .dataframe thead th {\n",
       "        text-align: right;\n",
       "    }\n",
       "</style>\n",
       "<table border=\"1\" class=\"dataframe\">\n",
       "  <thead>\n",
       "    <tr style=\"text-align: right;\">\n",
       "      <th></th>\n",
       "      <th>Age</th>\n",
       "      <th>Sex</th>\n",
       "      <th>ChestPainType</th>\n",
       "      <th>RestingBP</th>\n",
       "      <th>Cholesterol</th>\n",
       "      <th>FastingBS</th>\n",
       "      <th>RestingECG</th>\n",
       "      <th>MaxHR</th>\n",
       "      <th>ExerciseAngina</th>\n",
       "      <th>Oldpeak</th>\n",
       "      <th>ST_Slope</th>\n",
       "      <th>HeartDisease</th>\n",
       "    </tr>\n",
       "  </thead>\n",
       "  <tbody>\n",
       "    <tr>\n",
       "      <th>count</th>\n",
       "      <td>918.000000</td>\n",
       "      <td>918.000000</td>\n",
       "      <td>918.000000</td>\n",
       "      <td>918.000000</td>\n",
       "      <td>918.000000</td>\n",
       "      <td>918.000000</td>\n",
       "      <td>918.000000</td>\n",
       "      <td>918.000000</td>\n",
       "      <td>918.000000</td>\n",
       "      <td>918.000000</td>\n",
       "      <td>918.000000</td>\n",
       "      <td>918.000000</td>\n",
       "    </tr>\n",
       "    <tr>\n",
       "      <th>mean</th>\n",
       "      <td>53.510893</td>\n",
       "      <td>0.210240</td>\n",
       "      <td>1.748366</td>\n",
       "      <td>132.396514</td>\n",
       "      <td>198.799564</td>\n",
       "      <td>0.233115</td>\n",
       "      <td>1.592593</td>\n",
       "      <td>136.809368</td>\n",
       "      <td>0.404139</td>\n",
       "      <td>0.887364</td>\n",
       "      <td>2.361656</td>\n",
       "      <td>0.553377</td>\n",
       "    </tr>\n",
       "    <tr>\n",
       "      <th>std</th>\n",
       "      <td>9.432617</td>\n",
       "      <td>0.407701</td>\n",
       "      <td>0.931031</td>\n",
       "      <td>18.514154</td>\n",
       "      <td>109.384145</td>\n",
       "      <td>0.423046</td>\n",
       "      <td>0.793670</td>\n",
       "      <td>25.460334</td>\n",
       "      <td>0.490992</td>\n",
       "      <td>1.066570</td>\n",
       "      <td>0.607056</td>\n",
       "      <td>0.497414</td>\n",
       "    </tr>\n",
       "    <tr>\n",
       "      <th>min</th>\n",
       "      <td>28.000000</td>\n",
       "      <td>0.000000</td>\n",
       "      <td>1.000000</td>\n",
       "      <td>0.000000</td>\n",
       "      <td>0.000000</td>\n",
       "      <td>0.000000</td>\n",
       "      <td>1.000000</td>\n",
       "      <td>60.000000</td>\n",
       "      <td>0.000000</td>\n",
       "      <td>-2.600000</td>\n",
       "      <td>1.000000</td>\n",
       "      <td>0.000000</td>\n",
       "    </tr>\n",
       "    <tr>\n",
       "      <th>25%</th>\n",
       "      <td>47.000000</td>\n",
       "      <td>0.000000</td>\n",
       "      <td>1.000000</td>\n",
       "      <td>120.000000</td>\n",
       "      <td>173.250000</td>\n",
       "      <td>0.000000</td>\n",
       "      <td>1.000000</td>\n",
       "      <td>120.000000</td>\n",
       "      <td>0.000000</td>\n",
       "      <td>0.000000</td>\n",
       "      <td>2.000000</td>\n",
       "      <td>0.000000</td>\n",
       "    </tr>\n",
       "    <tr>\n",
       "      <th>50%</th>\n",
       "      <td>54.000000</td>\n",
       "      <td>0.000000</td>\n",
       "      <td>1.000000</td>\n",
       "      <td>130.000000</td>\n",
       "      <td>223.000000</td>\n",
       "      <td>0.000000</td>\n",
       "      <td>1.000000</td>\n",
       "      <td>138.000000</td>\n",
       "      <td>0.000000</td>\n",
       "      <td>0.600000</td>\n",
       "      <td>2.000000</td>\n",
       "      <td>1.000000</td>\n",
       "    </tr>\n",
       "    <tr>\n",
       "      <th>75%</th>\n",
       "      <td>60.000000</td>\n",
       "      <td>0.000000</td>\n",
       "      <td>2.000000</td>\n",
       "      <td>140.000000</td>\n",
       "      <td>267.000000</td>\n",
       "      <td>0.000000</td>\n",
       "      <td>2.000000</td>\n",
       "      <td>156.000000</td>\n",
       "      <td>1.000000</td>\n",
       "      <td>1.500000</td>\n",
       "      <td>3.000000</td>\n",
       "      <td>1.000000</td>\n",
       "    </tr>\n",
       "    <tr>\n",
       "      <th>max</th>\n",
       "      <td>77.000000</td>\n",
       "      <td>1.000000</td>\n",
       "      <td>4.000000</td>\n",
       "      <td>200.000000</td>\n",
       "      <td>603.000000</td>\n",
       "      <td>1.000000</td>\n",
       "      <td>3.000000</td>\n",
       "      <td>202.000000</td>\n",
       "      <td>1.000000</td>\n",
       "      <td>6.200000</td>\n",
       "      <td>3.000000</td>\n",
       "      <td>1.000000</td>\n",
       "    </tr>\n",
       "  </tbody>\n",
       "</table>\n",
       "</div>"
      ],
      "text/plain": [
       "              Age         Sex  ChestPainType   RestingBP  Cholesterol  \\\n",
       "count  918.000000  918.000000     918.000000  918.000000   918.000000   \n",
       "mean    53.510893    0.210240       1.748366  132.396514   198.799564   \n",
       "std      9.432617    0.407701       0.931031   18.514154   109.384145   \n",
       "min     28.000000    0.000000       1.000000    0.000000     0.000000   \n",
       "25%     47.000000    0.000000       1.000000  120.000000   173.250000   \n",
       "50%     54.000000    0.000000       1.000000  130.000000   223.000000   \n",
       "75%     60.000000    0.000000       2.000000  140.000000   267.000000   \n",
       "max     77.000000    1.000000       4.000000  200.000000   603.000000   \n",
       "\n",
       "        FastingBS  RestingECG       MaxHR  ExerciseAngina     Oldpeak  \\\n",
       "count  918.000000  918.000000  918.000000      918.000000  918.000000   \n",
       "mean     0.233115    1.592593  136.809368        0.404139    0.887364   \n",
       "std      0.423046    0.793670   25.460334        0.490992    1.066570   \n",
       "min      0.000000    1.000000   60.000000        0.000000   -2.600000   \n",
       "25%      0.000000    1.000000  120.000000        0.000000    0.000000   \n",
       "50%      0.000000    1.000000  138.000000        0.000000    0.600000   \n",
       "75%      0.000000    2.000000  156.000000        1.000000    1.500000   \n",
       "max      1.000000    3.000000  202.000000        1.000000    6.200000   \n",
       "\n",
       "         ST_Slope  HeartDisease  \n",
       "count  918.000000    918.000000  \n",
       "mean     2.361656      0.553377  \n",
       "std      0.607056      0.497414  \n",
       "min      1.000000      0.000000  \n",
       "25%      2.000000      0.000000  \n",
       "50%      2.000000      1.000000  \n",
       "75%      3.000000      1.000000  \n",
       "max      3.000000      1.000000  "
      ]
     },
     "execution_count": 23,
     "metadata": {},
     "output_type": "execute_result"
    }
   ],
   "source": [
    "df.describe()"
   ]
  },
  {
   "cell_type": "code",
   "execution_count": 24,
   "id": "14edd9f4-071f-43e4-b994-49f8147bff11",
   "metadata": {},
   "outputs": [
    {
     "data": {
      "text/plain": [
       "<AxesSubplot:>"
      ]
     },
     "execution_count": 24,
     "metadata": {},
     "output_type": "execute_result"
    },
    {
     "data": {
      "image/png": "[encoded data removed]",
      "text/plain": [
       "<Figure size 432x288 with 1 Axes>"
      ]
     },
     "metadata": {
      "needs_background": "light"
     },
     "output_type": "display_data"
    }
   ],
   "source": [
    "df['Cholesterol'].hist()"
   ]
  },
  {
   "cell_type": "code",
   "execution_count": 25,
   "id": "490f6067-9a8b-4e97-86e6-27c080d2d163",
   "metadata": {},
   "outputs": [
    {
     "data": {
      "text/plain": [
       "ExerciseAngina    0.494282\n",
       "Name: HeartDisease, dtype: float64"
      ]
     },
     "execution_count": 25,
     "metadata": {},
     "output_type": "execute_result"
    }
   ],
   "source": [
    "# Taking the best positive correlation variable to try predict better:\n",
    "\n",
    "df.corr()['HeartDisease'][:-1].loc[df.corr()['HeartDisease'][:-1] == df.corr()['HeartDisease'][:-1].max()]"
   ]
  },
  {
   "cell_type": "code",
   "execution_count": 26,
   "id": "b3873947-cafb-4c2e-992b-d145dbb1cabf",
   "metadata": {},
   "outputs": [
    {
     "data": {
      "text/plain": [
       "ST_Slope   -0.558771\n",
       "Name: HeartDisease, dtype: float64"
      ]
     },
     "execution_count": 26,
     "metadata": {},
     "output_type": "execute_result"
    }
   ],
   "source": [
    "# Taking the best negative correlation variable to try predict better:\n",
    "\n",
    "df.corr()['HeartDisease'][:-1].loc[df.corr()['HeartDisease'][:-1] == df.corr()['HeartDisease'][:-1].min()]"
   ]
  },
  {
   "cell_type": "markdown",
   "id": "8fea8f56-0a39-4038-a798-930025348c53",
   "metadata": {},
   "source": [
    "[top](#Table-of-Contents)\n",
    "<h3>Simple Linear Regression Model (SLR)</h3>\n",
    "<details><summary></summary>\n",
    "\n",
    "\n",
    "</details>"
   ]
  },
  {
   "cell_type": "code",
   "execution_count": 27,
   "id": "c80d79db-ba58-468d-9914-022d801eadd1",
   "metadata": {},
   "outputs": [],
   "source": [
    "# To be more meaningful, we are coing to split the data set and select unique variable Cholesterol to predict Heart Disease:\n",
    "# Training and Testing: n important step in testing your model is to split your data into training and testing data.\n",
    "\n",
    "# We will place the independent variable in a separate dataframe x_data:\n",
    "slr_x_data = df[['Cholesterol']]\n",
    "\n",
    "# And, we'll place the target data in a separate dataframe y_data:\n",
    "slr_y_data = df['HeartDisease']"
   ]
  },
  {
   "cell_type": "code",
   "execution_count": 28,
   "id": "35bc6175-810a-41bc-843f-e97221266744",
   "metadata": {},
   "outputs": [
    {
     "name": "stdout",
     "output_type": "stream",
     "text": [
      "number of training samples: 642\n",
      "number of test samples : 276\n"
     ]
    }
   ],
   "source": [
    "# Now, we randomly split our data into training and testing data using the function train_test_split.\n",
    "\n",
    "slr_x_train, slr_x_test, slr_y_train, slr_y_test = train_test_split(slr_x_data, slr_y_data, test_size=0.30, random_state=1)\n",
    "\n",
    "# The test_size parameter sets the proportion of data that is split into the testing set.\n",
    "# In the above, the testing set is 30% of the total dataset.\n",
    "\n",
    "print(\"number of training samples:\", slr_x_train.shape[0])\n",
    "print(\"number of test samples :\", slr_x_test.shape[0])"
   ]
  },
  {
   "cell_type": "code",
   "execution_count": 29,
   "id": "50d57b3d-1250-4bae-8038-3bde96d8d1e0",
   "metadata": {},
   "outputs": [
    {
     "name": "stdout",
     "output_type": "stream",
     "text": [
      "Linear regression model created successfully!\n"
     ]
    }
   ],
   "source": [
    "# Creating linear regression object:\n",
    "\n",
    "slr_model = LinearRegression()\n",
    "\n",
    "if str(type(slr_model)) == \"<class 'sklearn.linear_model._base.LinearRegression'>\":\n",
    "    print('Linear regression model created successfully!')\n",
    "else:\n",
    "    print('Something went wrong! Please check the code.')"
   ]
  },
  {
   "cell_type": "code",
   "execution_count": 30,
   "id": "347d2aa6-0965-400f-9578-781310b1d98c",
   "metadata": {},
   "outputs": [
    {
     "data": {
      "text/plain": [
       "LinearRegression()"
      ]
     },
     "execution_count": 30,
     "metadata": {},
     "output_type": "execute_result"
    }
   ],
   "source": [
    "# Fit the linear model using :\n",
    "\n",
    "slr_model.fit(slr_x_train, slr_y_train)"
   ]
  },
  {
   "cell_type": "code",
   "execution_count": 31,
   "id": "16143463-c7bb-4876-9b3e-48103f871019",
   "metadata": {},
   "outputs": [
    {
     "data": {
      "text/plain": [
       "0.763889455289579"
      ]
     },
     "execution_count": 31,
     "metadata": {},
     "output_type": "execute_result"
    }
   ],
   "source": [
    "slr_model.intercept_ # the value of the intercept (a)"
   ]
  },
  {
   "cell_type": "code",
   "execution_count": 32,
   "id": "a561f3f0-9562-42af-bb26-914aa10dc7ea",
   "metadata": {
    "scrolled": true
   },
   "outputs": [
    {
     "data": {
      "text/plain": [
       "array([-0.00118064])"
      ]
     },
     "execution_count": 32,
     "metadata": {},
     "output_type": "execute_result"
    }
   ],
   "source": [
    "slr_model.coef_ # the value of the slope (b)"
   ]
  },
  {
   "cell_type": "code",
   "execution_count": 33,
   "id": "c9a38c3e-036e-4e25-9a6f-172c352b5d47",
   "metadata": {},
   "outputs": [],
   "source": [
    "# Prediction:\n",
    "\n",
    "slr_Yhat = slr_model.predict(slr_x_test)"
   ]
  },
  {
   "cell_type": "code",
   "execution_count": 34,
   "id": "6106fcfb-7d13-438f-8c76-a98cfb655022",
   "metadata": {},
   "outputs": [],
   "source": [
    "# Now, we must compare the mvp_Yhat with mvp_y_test to take the model accuracy, in the next section."
   ]
  },
  {
   "cell_type": "markdown",
   "id": "68836d1f-f3ad-4567-acdf-fd8cebcb0176",
   "metadata": {},
   "source": [
    "[top](#Table-of-Contents)\n",
    "<h3>Multiple Linear Regression Model (MLR)</h3>\n",
    "<details><summary></summary>\n",
    "\n",
    "\n",
    "</details>"
   ]
  },
  {
   "cell_type": "code",
   "execution_count": 35,
   "id": "abf0d825-6334-46cb-a1cb-cc872d9049ff",
   "metadata": {},
   "outputs": [],
   "source": [
    "# To be more meaningful, we are coing to split the data set and select unique variable Cholesterol to predict Heart Disease:\n",
    "# Training and Testing: n important step in testing your model is to split your data into training and testing data.\n",
    "\n",
    "# We will place the independent variable in a separate dataframe x_data:\n",
    "mlr_x_data = df.drop('HeartDisease', axis = 1)\n",
    "\n",
    "# And, we'll place the target data in a separate dataframe y_data:\n",
    "mlr_y_data = df['HeartDisease']"
   ]
  },
  {
   "cell_type": "code",
   "execution_count": 36,
   "id": "c6a1ac86-1cfe-467a-af71-98638219a6b1",
   "metadata": {},
   "outputs": [
    {
     "name": "stdout",
     "output_type": "stream",
     "text": [
      "number of training samples: 642\n",
      "number of test samples : 276\n"
     ]
    }
   ],
   "source": [
    "# Now, we randomly split our data into training and testing data using the function train_test_split.\n",
    "\n",
    "mlr_x_train, mlr_x_test, mlr_y_train, mlr_y_test = train_test_split(mlr_x_data, mlr_y_data, test_size=0.30, random_state=1)\n",
    "\n",
    "# The test_size parameter sets the proportion of data that is split into the testing set.\n",
    "# In the above, the testing set is 30% of the total dataset.\n",
    "\n",
    "print(\"number of training samples:\", mlr_x_train.shape[0])\n",
    "print(\"number of test samples :\", mlr_x_test.shape[0])"
   ]
  },
  {
   "cell_type": "code",
   "execution_count": 37,
   "id": "37e38476-d492-47b9-9666-761317b3bf38",
   "metadata": {},
   "outputs": [
    {
     "name": "stdout",
     "output_type": "stream",
     "text": [
      "Linear regression model created successfully!\n"
     ]
    }
   ],
   "source": [
    "# Creating linear regression object:\n",
    "\n",
    "mlr_model = LinearRegression()\n",
    "\n",
    "if str(type(mlr_model)) == \"<class 'sklearn.linear_model._base.LinearRegression'>\":\n",
    "    print('Linear regression model created successfully!')\n",
    "else:\n",
    "    print('Something went wrong! Please check the code.')"
   ]
  },
  {
   "cell_type": "code",
   "execution_count": 38,
   "id": "5922f5ab-3ae8-44f0-a03d-ac353c29c955",
   "metadata": {},
   "outputs": [
    {
     "data": {
      "text/plain": [
       "LinearRegression()"
      ]
     },
     "execution_count": 38,
     "metadata": {},
     "output_type": "execute_result"
    }
   ],
   "source": [
    "# Fit the linear model using :\n",
    "\n",
    "mlr_model.fit(mlr_x_train, mlr_y_train)"
   ]
  },
  {
   "cell_type": "code",
   "execution_count": 39,
   "id": "55038833-a685-4dfe-8d2a-91cc172e4f1c",
   "metadata": {},
   "outputs": [
    {
     "data": {
      "text/plain": [
       "1.1554101511021393"
      ]
     },
     "execution_count": 39,
     "metadata": {},
     "output_type": "execute_result"
    }
   ],
   "source": [
    "mlr_model.intercept_ # the value of the intercept (a)"
   ]
  },
  {
   "cell_type": "code",
   "execution_count": 40,
   "id": "d811e4ca-8afe-4374-a856-3b902979dbd0",
   "metadata": {
    "scrolled": true
   },
   "outputs": [
    {
     "data": {
      "text/plain": [
       "array([ 0.00266956, -0.16399267, -0.11162958,  0.00084918, -0.00048701,\n",
       "        0.14189872, -0.00211541, -0.00122364,  0.1701638 ,  0.05764728,\n",
       "       -0.22214824])"
      ]
     },
     "execution_count": 40,
     "metadata": {},
     "output_type": "execute_result"
    }
   ],
   "source": [
    "mlr_model.coef_ # the value of the slope (b)"
   ]
  },
  {
   "cell_type": "code",
   "execution_count": 41,
   "id": "e6854315-8147-4b09-88e1-11e02725eb04",
   "metadata": {},
   "outputs": [],
   "source": [
    "# Prediction:\n",
    "\n",
    "mlr_Yhat = mlr_model.predict(mlr_x_test)"
   ]
  },
  {
   "cell_type": "code",
   "execution_count": 42,
   "id": "27e2865d-842a-41da-bb4c-540eca53399c",
   "metadata": {},
   "outputs": [],
   "source": [
    "# Now, we must compare the mvp_Yhat with mvp_y_test to take the model accuracy, in the next section."
   ]
  },
  {
   "cell_type": "markdown",
   "id": "ed4fdc03-7c89-491e-a06b-394faab0f7ff",
   "metadata": {},
   "source": [
    "[top](#Table-of-Contents)\n",
    "<h3>Polynomial Regression (PLR)</h3>\n",
    "<details><summary></summary>\n",
    "\n",
    "\n",
    "</details>"
   ]
  },
  {
   "cell_type": "code",
   "execution_count": 43,
   "id": "7ab1fc8e-6002-4d7b-ba87-b74f91684fca",
   "metadata": {},
   "outputs": [],
   "source": [
    "# Let's get the variables, like before:\n",
    "\n",
    "plr_x_data = df['Cholesterol']\n",
    "plr_y_data = df['HeartDisease']"
   ]
  },
  {
   "cell_type": "code",
   "execution_count": 44,
   "id": "ed06be5e-9048-4bff-bd11-292f6a84b9cb",
   "metadata": {},
   "outputs": [
    {
     "name": "stdout",
     "output_type": "stream",
     "text": [
      "number of training samples: 642\n",
      "number of test samples : 276\n"
     ]
    }
   ],
   "source": [
    "# Now, we randomly split our data into training and testing data using the function train_test_split.\n",
    "\n",
    "plr_x_train, plr_x_test, plr_y_train, plr_y_test = train_test_split(plr_x_data, plr_y_data, test_size=0.30, random_state=1)\n",
    "\n",
    "# The test_size parameter sets the proportion of data that is split into the testing set.\n",
    "# In the above, the testing set is 30% of the total dataset.\n",
    "\n",
    "print(\"number of training samples:\", plr_x_train.shape[0])\n",
    "print(\"number of test samples :\", plr_x_test.shape[0])"
   ]
  },
  {
   "cell_type": "code",
   "execution_count": 45,
   "id": "fb1b98d3-1315-48ca-9fc5-425a88b0955c",
   "metadata": {},
   "outputs": [
    {
     "name": "stdout",
     "output_type": "stream",
     "text": [
      "The function seems like:\n",
      "            2\n",
      "6.944e-06 x - 0.003535 x + 0.8719\n"
     ]
    }
   ],
   "source": [
    "# Let's fit the polynomial using the function polyfit, then use the function poly1d to display the polynomial function.\n",
    "# Here we use a polynomial of the 2nd order (square)\n",
    "\n",
    "z = 2 # Desired degree to set the model\n",
    "plr_model = np.polyfit(plr_x_train, plr_y_train, z)\n",
    "plr_eqt = np.poly1d(plr_model)\n",
    "print('The function seems like:\\n', plr_eqt)"
   ]
  },
  {
   "cell_type": "code",
   "execution_count": 46,
   "id": "3bddf928-c2e0-48a9-921b-aa64625c14b3",
   "metadata": {},
   "outputs": [],
   "source": [
    "plr_Yhat = plr_eqt(plr_x_test)"
   ]
  },
  {
   "cell_type": "code",
   "execution_count": 47,
   "id": "8c30bd04-a799-4674-bc63-6686a4536b06",
   "metadata": {},
   "outputs": [],
   "source": [
    "# Now, we must compare the mvp_Yhat with mvp_y_test to take the model accuracy, in the next section."
   ]
  },
  {
   "cell_type": "markdown",
   "id": "89fc82b7-4ff5-4679-b5f0-c5d5f3303523",
   "metadata": {},
   "source": [
    "[top](#Table-of-Contents)\n",
    "<h3>Multivariate Polynomial Regression and Pipelines (MVP)</h3>\n",
    "<details><summary></summary>\n",
    "\n",
    "\n",
    "</details>"
   ]
  },
  {
   "cell_type": "code",
   "execution_count": 48,
   "id": "db86e9fe-1439-44d3-bc1b-8ed29bc79736",
   "metadata": {},
   "outputs": [],
   "source": [
    "# Let's get the variables, like before:\n",
    "\n",
    "# mvp_x_data = df['Cholesterol']\n",
    "mvp_x_data = df.drop('HeartDisease', axis = 1)\n",
    "mvp_y_data = df['HeartDisease']"
   ]
  },
  {
   "cell_type": "code",
   "execution_count": 49,
   "id": "3a66ec4c-2bdc-449d-899c-eec75a988e1a",
   "metadata": {},
   "outputs": [
    {
     "name": "stdout",
     "output_type": "stream",
     "text": [
      "Multivariate Polynomial Features object created successfully!\n"
     ]
    }
   ],
   "source": [
    "# We create a Polynomial Features object of degree 2:\n",
    "\n",
    "mvp_obj = PolynomialFeatures(degree=z)\n",
    "\n",
    "if str(type(mvp_obj)) == \"<class 'sklearn.preprocessing._data.PolynomialFeatures'>\":\n",
    "    print('Multivariate Polynomial Features object created successfully!')\n",
    "else:\n",
    "    print('Something went wrong! Please check the code.')"
   ]
  },
  {
   "cell_type": "code",
   "execution_count": 50,
   "id": "ec40bfc1-6319-4a48-806b-33213b418240",
   "metadata": {},
   "outputs": [
    {
     "data": {
      "text/plain": [
       "(918, 11)"
      ]
     },
     "execution_count": 50,
     "metadata": {},
     "output_type": "execute_result"
    }
   ],
   "source": [
    "# In the original data, there are 918 samples and 11 features.\n",
    "\n",
    "mvp_x_data.shape"
   ]
  },
  {
   "cell_type": "code",
   "execution_count": 51,
   "id": "1757933a-322e-4cad-8cc8-0e6b8280296e",
   "metadata": {},
   "outputs": [],
   "source": [
    "mvp_x_data = mvp_obj.fit_transform(mvp_x_data)"
   ]
  },
  {
   "cell_type": "code",
   "execution_count": 52,
   "id": "db688bd1-0d83-4aed-9c7e-5e961bea7c10",
   "metadata": {},
   "outputs": [
    {
     "data": {
      "text/plain": [
       "(918, 78)"
      ]
     },
     "execution_count": 52,
     "metadata": {},
     "output_type": "execute_result"
    }
   ],
   "source": [
    "# After the transformation, there are 918 samples and 78 features.\n",
    "\n",
    "mvp_x_data.shape"
   ]
  },
  {
   "cell_type": "code",
   "execution_count": 53,
   "id": "879d9fd8-8afa-4a16-ad04-e51c33dbc8b8",
   "metadata": {},
   "outputs": [
    {
     "name": "stdout",
     "output_type": "stream",
     "text": [
      "number of training samples: 642\n",
      "number of test samples : 276\n"
     ]
    }
   ],
   "source": [
    "# Now, we randomly split our data into training and testing data using the function train_test_split.\n",
    "\n",
    "mvp_x_train, mvp_x_test, mvp_y_train, mvp_y_test = train_test_split(mvp_x_data, mvp_y_data, test_size=0.30, random_state=1)\n",
    "\n",
    "# The test_size parameter sets the proportion of data that is split into the testing set.\n",
    "# In the above, the testing set is 30% of the total dataset.\n",
    "\n",
    "print(\"number of training samples:\", mvp_x_train.shape[0])\n",
    "print(\"number of test samples :\", mvp_x_test.shape[0])"
   ]
  },
  {
   "cell_type": "code",
   "execution_count": 54,
   "id": "31f0d31f-da5e-486c-afeb-125cfa4aa0b8",
   "metadata": {},
   "outputs": [],
   "source": [
    "# Data Pipelines simplify the steps of processing the data. We use the module Pipeline to create a pipeline.\n",
    "# We also use StandardScaler as a step in our pipeline.\n",
    "# We create the pipeline by creating a list of tuples including the name of the model or estimator and\n",
    "# it's corresponding constructor.\n",
    "\n",
    "mvp_settings = [('scale',StandardScaler()), ('polynomial', PolynomialFeatures(include_bias=False)),\\\n",
    "                ('model',LinearRegression())]"
   ]
  },
  {
   "cell_type": "code",
   "execution_count": 55,
   "id": "a1ab5c05-3320-4cee-abee-19e40a08a87b",
   "metadata": {},
   "outputs": [
    {
     "name": "stdout",
     "output_type": "stream",
     "text": [
      "Pipeline object created successfully!\n"
     ]
    }
   ],
   "source": [
    "# We input the list as an argument to the pipeline constructor:\n",
    "\n",
    "mvp_model = Pipeline(mvp_settings)\n",
    "\n",
    "if str(type(mvp_model)) == \"<class 'sklearn.pipeline.Pipeline'>\":\n",
    "    print('Pipeline object created successfully!')\n",
    "else:\n",
    "    print('Something went wrong! Please check the code.')"
   ]
  },
  {
   "cell_type": "code",
   "execution_count": 56,
   "id": "44a7dce7-3322-4651-8c2f-64f081843ac6",
   "metadata": {},
   "outputs": [
    {
     "data": {
      "text/plain": [
       "Pipeline(steps=[('scale', StandardScaler()),\n",
       "                ('polynomial', PolynomialFeatures(include_bias=False)),\n",
       "                ('model', LinearRegression())])"
      ]
     },
     "execution_count": 56,
     "metadata": {},
     "output_type": "execute_result"
    }
   ],
   "source": [
    "# First, we convert the data type Z to type float to avoid conversion warnings that may appear as a result of\n",
    "# StandardScaler taking float inputs. Then, we can normalize the data, perform a transform and fit the model simultaneously.\n",
    "\n",
    "mvp_x_train = mvp_x_train.astype(float)\n",
    "mvp_model.fit(mvp_x_train, mvp_y_train)"
   ]
  },
  {
   "cell_type": "code",
   "execution_count": 57,
   "id": "591a4672-dd36-473c-9f3d-8841a77a54c4",
   "metadata": {},
   "outputs": [
    {
     "data": {
      "text/plain": [
       "array([-10.58575096,   2.02598743,   1.56142662,   0.31280867])"
      ]
     },
     "execution_count": 57,
     "metadata": {},
     "output_type": "execute_result"
    }
   ],
   "source": [
    "# Similarly, we can normalize the data, perform a transform and produce a prediction simultaneously.\n",
    "\n",
    "mvp_x_test = mvp_x_test.astype(float)\n",
    "mvp_Yhat = mvp_model.predict(mvp_x_test)\n",
    "mvp_Yhat[0:4]"
   ]
  },
  {
   "cell_type": "code",
   "execution_count": 58,
   "id": "3bec2ca1-f275-4dd1-95c5-324e2137fe5d",
   "metadata": {},
   "outputs": [],
   "source": [
    "# Now, we must compare the mvp_Yhat with mvp_y_test to take the model accuracy, in the next section."
   ]
  },
  {
   "cell_type": "markdown",
   "id": "a1e166f1-f457-4135-b685-8b7066901593",
   "metadata": {},
   "source": [
    "[top](#Table-of-Contents)\n",
    "<h3>Ridge Regression (RDG)</h3>\n",
    "<details><summary></summary>\n",
    "\n",
    "\n",
    "</details>"
   ]
  },
  {
   "cell_type": "code",
   "execution_count": 59,
   "id": "65087769-60f7-42c5-b75c-d716e05db8f7",
   "metadata": {},
   "outputs": [],
   "source": [
    "# In this section, we will review Ridge Regression and see how the parameter alpha changes the model.\n",
    "# Let's perform a polynomial transformation that we'vr got last section.\n",
    "\n",
    "rdg_x_train, rdg_y_train = mvp_x_train, mvp_y_train\n",
    "rdg_x_test, rdg_y_test = mvp_x_test, mvp_y_test"
   ]
  },
  {
   "cell_type": "code",
   "execution_count": 60,
   "id": "750fb7ef-e2b3-46c1-9150-ad373bd1a72a",
   "metadata": {},
   "outputs": [],
   "source": [
    "# Let's create a Ridge regression object, setting the regularization parameter (alpha) to 1, as default.\n",
    "\n",
    "rdg_model = Ridge(alpha=1)"
   ]
  },
  {
   "cell_type": "code",
   "execution_count": 61,
   "id": "5a245a52-0a4c-4dd6-a977-563510120763",
   "metadata": {},
   "outputs": [
    {
     "data": {
      "text/plain": [
       "Ridge(alpha=1)"
      ]
     },
     "execution_count": 61,
     "metadata": {},
     "output_type": "execute_result"
    }
   ],
   "source": [
    "# Like regular regression, you can fit the model using the method fit.\n",
    "\n",
    "rdg_model.fit(rdg_x_train, rdg_y_train)"
   ]
  },
  {
   "cell_type": "code",
   "execution_count": 62,
   "id": "9bd7c762-fa4f-498b-9428-8149984ea6b6",
   "metadata": {},
   "outputs": [],
   "source": [
    "# Similarly, you can obtain a prediction:\n",
    "\n",
    "rdg_Yhat = rdg_model.predict(rdg_x_test)"
   ]
  },
  {
   "cell_type": "code",
   "execution_count": 63,
   "id": "2aa1d4a7-0bef-4bba-a425-22cfcf6db135",
   "metadata": {},
   "outputs": [],
   "source": [
    "# Now, we must compare the mvp_Yhat with mvp_y_test to take the model accuracy, in the next section."
   ]
  },
  {
   "cell_type": "markdown",
   "id": "4b3dbd36-24fc-4856-a9cb-ca82684faf3a",
   "metadata": {},
   "source": [
    "[top](#Table-of-Contents)\n",
    "<h3>Grid Search (GRD)</h3>\n",
    "<details><summary></summary>\n",
    "\n",
    "\n",
    "</details>"
   ]
  },
  {
   "cell_type": "code",
   "execution_count": 64,
   "id": "7c19c171-7354-4405-b08c-4d410eb15468",
   "metadata": {},
   "outputs": [],
   "source": [
    "grd_x_data = df.drop('HeartDisease', axis = 1)\n",
    "grd_y_data = df['HeartDisease']"
   ]
  },
  {
   "cell_type": "code",
   "execution_count": 65,
   "id": "c805d795-a984-4f90-b62f-18f4c8883589",
   "metadata": {},
   "outputs": [
    {
     "name": "stdout",
     "output_type": "stream",
     "text": [
      "number of training samples: 642\n",
      "number of test samples : 276\n"
     ]
    }
   ],
   "source": [
    "# Now, we randomly split our data into training and testing data using the function train_test_split.\n",
    "\n",
    "grd_x_train, grd_x_test, grd_y_train, grd_y_test = train_test_split(grd_x_data, grd_y_data, test_size=0.30, random_state=1)\n",
    "\n",
    "# The test_size parameter sets the proportion of data that is split into the testing set.\n",
    "# In the above, the testing set is 30% of the total dataset.\n",
    "\n",
    "print(\"number of training samples:\", grd_x_train.shape[0])\n",
    "print(\"number of test samples :\", grd_x_test.shape[0])"
   ]
  },
  {
   "cell_type": "code",
   "execution_count": 66,
   "id": "a04af76a-93f2-43d1-bed2-cfd91dbcd003",
   "metadata": {},
   "outputs": [],
   "source": [
    "grd_x_train = grd_x_train.astype(float)\n",
    "grd_y_train = grd_y_train.astype(float)"
   ]
  },
  {
   "cell_type": "code",
   "execution_count": 67,
   "id": "088586e1-49b7-4561-b8e7-dbe9d600a8b7",
   "metadata": {},
   "outputs": [],
   "source": [
    "# The term alpha is a hyperparameter. Sklearn has the class GridSearchCV to make the process of finding\n",
    "# the best hyperparameter simpler.\n",
    "# We create a dictionary of parameter values:\n",
    "\n",
    "n = 8\n",
    "h_par = [{'alpha': [10**(x-3) for x in range(n)]}]"
   ]
  },
  {
   "cell_type": "code",
   "execution_count": 68,
   "id": "e850d20b-9f70-4332-8d47-5fff61cf74a7",
   "metadata": {},
   "outputs": [
    {
     "name": "stdout",
     "output_type": "stream",
     "text": [
      "Ridge object created successfully!\n"
     ]
    }
   ],
   "source": [
    "# Create a Ridge regression object:\n",
    "\n",
    "rdg_obj = Ridge()\n",
    "\n",
    "if str(type(rdg_obj)) == \"<class 'sklearn.linear_model._ridge.Ridge'>\":\n",
    "    print('Ridge object created successfully!')\n",
    "else:\n",
    "    print('Something went wrong! Please check the code.')"
   ]
  },
  {
   "cell_type": "code",
   "execution_count": 69,
   "id": "96ba210b-73dd-44c9-9a88-fee9cb5b40a8",
   "metadata": {},
   "outputs": [
    {
     "name": "stdout",
     "output_type": "stream",
     "text": [
      "Grid Search model created successfully!\n"
     ]
    }
   ],
   "source": [
    "# Create a grid search object:\n",
    "\n",
    "grd_model = GridSearchCV(rdg_obj, h_par, cv=5)\n",
    "\n",
    "if str(type(grd_model)) == \"<class 'sklearn.model_selection._search.GridSearchCV'>\":\n",
    "    print('Grid Search model created successfully!')\n",
    "else:\n",
    "    print('Something went wrong! Please check the code.')"
   ]
  },
  {
   "cell_type": "code",
   "execution_count": 70,
   "id": "a56c7476-7da3-4467-bbbf-8d45e163d297",
   "metadata": {
    "tags": []
   },
   "outputs": [
    {
     "data": {
      "text/plain": [
       "GridSearchCV(cv=5, estimator=Ridge(),\n",
       "             param_grid=[{'alpha': [0.001, 0.01, 0.1, 1, 10, 100, 1000,\n",
       "                                    10000]}])"
      ]
     },
     "execution_count": 70,
     "metadata": {},
     "output_type": "execute_result"
    }
   ],
   "source": [
    "# Fit the model:\n",
    "\n",
    "grd_model.fit(grd_x_train, grd_y_train)"
   ]
  },
  {
   "cell_type": "code",
   "execution_count": 71,
   "id": "da9a1dd6-00aa-4395-942e-60b4db7463d4",
   "metadata": {},
   "outputs": [],
   "source": [
    "# The object finds the best parameter values on the validation data. We can obtain the estimator with\n",
    "# the best parameters and assign it to the variable BestRR as follows:\n",
    "\n",
    "best_settings_fit = grd_model.best_estimator_"
   ]
  },
  {
   "cell_type": "code",
   "execution_count": 72,
   "id": "035a1644-6317-4ee8-ab1f-ccfe36afa8ef",
   "metadata": {},
   "outputs": [],
   "source": [
    "alpha_max = best_settings_fit.get_params()['alpha']"
   ]
  },
  {
   "cell_type": "code",
   "execution_count": 73,
   "id": "e56ef55e-3d64-4b38-a082-9f25ccaaaf1f",
   "metadata": {},
   "outputs": [],
   "source": [
    "grd_Yhat = best_settings_fit.predict(grd_x_test)"
   ]
  },
  {
   "cell_type": "code",
   "execution_count": 74,
   "id": "1ff462ce-e959-44df-a17f-ad7dcf29fb7e",
   "metadata": {},
   "outputs": [],
   "source": [
    "# Now, we must compare the mvp_Yhat with mvp_y_test to take the model accuracy, in the next section."
   ]
  },
  {
   "cell_type": "markdown",
   "id": "8737f2e5-09ec-42c2-b3c0-0e2ba0bd4362",
   "metadata": {},
   "source": [
    "[top](#Table-of-Contents)\n",
    "<h3>Measures for InSample Evaluation and Model Visualizations</h3>\n",
    "<details><summary></summary>\n",
    "\n",
    "\n",
    "</details>"
   ]
  },
  {
   "cell_type": "code",
   "execution_count": 75,
   "id": "0cba6490-ef9a-4695-b6d4-703a2420e666",
   "metadata": {},
   "outputs": [],
   "source": [
    "# Until now, we've developed model with no major worries. In this section, we're going to introduce the Fine Tuning subject\n",
    "# intending to show you how it is important to the whole process of prediction."
   ]
  },
  {
   "cell_type": "code",
   "execution_count": 76,
   "id": "2e3eed05-5b62-4da7-8063-a4e615b7bdd4",
   "metadata": {},
   "outputs": [],
   "source": [
    "# Let's define some functions for calculate models and plot different kind of graphs easier than before."
   ]
  },
  {
   "cell_type": "code",
   "execution_count": 77,
   "id": "a13d9bee-ace6-4662-9065-ddc4bd9ddbc0",
   "metadata": {},
   "outputs": [],
   "source": [
    "# To undersatnd how the PLR function and it's metrics are influeced by the dataset test size and the function order,\n",
    "# let's define a function to loop the calc easily, repeating the same algoritm as above:\n",
    "\n",
    "def PLR_model(x, y, t_size = 0.30, f_order = 2):\n",
    "    plr_x_train, plr_x_test, plr_y_train, plr_y_test = train_test_split(x, y, test_size=t_size, random_state=1)\n",
    "    global plr_model\n",
    "    plr_model = np.polyfit(plr_x_train, plr_y_train, f_order)\n",
    "    global plr_eqt\n",
    "    plr_eqt = np.poly1d(plr_model)\n",
    "    plr_Yhat = plr_eqt(plr_x_test)\n",
    "    global plr_mse\n",
    "    plr_mse = mean_squared_error(plr_y_test, plr_Yhat)\n",
    "    global plr_Rsqr_test\n",
    "    plr_Rsqr_test = r2_score(plr_y_test, plr_Yhat)\n",
    "    \n",
    "    return [plr_mse, plr_Rsqr_test]"
   ]
  },
  {
   "cell_type": "code",
   "execution_count": 78,
   "id": "5c1319f6-42c9-4f0f-86f2-6313782aa7b6",
   "metadata": {},
   "outputs": [],
   "source": [
    "# To undersatnd how the MVP function and it's metrics are influeced by the  dataset test size and the function order,\n",
    "# let's define a function to loop the calc easily, repeating the same algoritm as above:\n",
    "\n",
    "def MVP_model(x, y, t_size = 0.30, f_order = 2):\n",
    "    mvp_obj = PolynomialFeatures(degree = f_order)\n",
    "    x = mvp_obj.fit_transform(x)\n",
    "    mvp_x_train, mvp_x_test, mvp_y_train, mvp_y_test = train_test_split(x, y, test_size = t_size, random_state=1)\n",
    "    mvp_settings = [('scale',StandardScaler()), ('polynomial', PolynomialFeatures(include_bias=False)),\\\n",
    "                    ('model',LinearRegression())]\n",
    "    mvp_model = Pipeline(mvp_settings)\n",
    "    mvp_x_train = mvp_x_train.astype(float)\n",
    "    mvp_model.fit(mvp_x_train, mvp_y_train)\n",
    "    mvp_x_test = mvp_x_test.astype(float)\n",
    "    mvp_Yhat = mvp_model.predict(mvp_x_test)\n",
    "    mvp_mse = mean_squared_error(mvp_y_test, mvp_Yhat)\n",
    "    mvp_Rsqr_test = mvp_model.score(mvp_x_test, mvp_y_test)\n",
    "    \n",
    "    return [mvp_mse, mvp_Rsqr_test]"
   ]
  },
  {
   "cell_type": "code",
   "execution_count": 79,
   "id": "c3e79cba-4ed8-4c97-ae8e-2734da9887af",
   "metadata": {},
   "outputs": [],
   "source": [
    "def DistributionPlot(RedFunction, BlueFunction, Title, Xlabel, Ylabel):\n",
    "    \n",
    "    plt.figure()\n",
    "        \n",
    "    table = pd.DataFrame(np.array(RedFunction), columns=['Y_test'])\n",
    "    table['Y_hat'] = BlueFunction\n",
    "    \n",
    "    graph = sns.displot(data=table, kde=True, height=8, aspect=1.5)\n",
    "    \n",
    "    plt.title(Title)\n",
    "    graph.set_axis_labels(Xlabel, Ylabel)"
   ]
  },
  {
   "cell_type": "code",
   "execution_count": 80,
   "id": "af99b713-f4fd-4afd-a19b-ce7e3ee21101",
   "metadata": {},
   "outputs": [],
   "source": [
    "def PollyPlot(xtrain, xtest, y_train, y_test, equation):\n",
    "    width = 8\n",
    "    height = 4.5\n",
    "    plt.figure(figsize=(width, height))\n",
    "    \n",
    "    xmax = max([xtrain.values.max(), xtest.values.max()])\n",
    "    xmin = min([xtrain.values.min(), xtest.values.min()])\n",
    "    x = np.arange(xmin, xmax, 0.1)\n",
    "    \n",
    "    plt.plot(xtrain, y_train, 'ro', label='Training Data')\n",
    "    plt.plot(xtest, y_test, 'go', label='Test Data')\n",
    "    plt.plot(x, equation(x), label='Predicted Function')\n",
    "    plt.xlabel(plr_x_data.to_frame().columns[0])\n",
    "    plt.ylabel(plr_y_data.to_frame().columns[0])\n",
    "    plt.legend()"
   ]
  },
  {
   "cell_type": "code",
   "execution_count": 81,
   "id": "a81e8072-b73a-4ff5-986e-a5b2533e2754",
   "metadata": {},
   "outputs": [],
   "source": [
    "def RsqrPlot(model, x, y, ind_var):\n",
    "    \n",
    "    width = 8\n",
    "    height = 4.5\n",
    "    plt.figure(figsize=(width, height))\n",
    "\n",
    "    plt.plot(x, y)\n",
    "    plt.xlabel(ind_var)\n",
    "    plt.ylabel('R^2')\n",
    "    plt.title('R^2 of '+model+' Model')\n",
    "    plt.text(x[list(y).index(y.max())], y.max(), 'Maximum R^2 ('+ind_var+': '+str(x[list(y).index(y.max())])+')')"
   ]
  },
  {
   "cell_type": "code",
   "execution_count": 82,
   "id": "9e5d582e-b29c-47fc-ab09-357ad9eb9f15",
   "metadata": {},
   "outputs": [],
   "source": [
    "# To clearly compare the results, we're going to create 2 data frames:\n",
    "\n",
    "# to compare the performance measures on the same board\n",
    "comp_meas_frame = pd.DataFrame(index=['MeanSquareError', 'rSquared'])\n",
    "\n",
    "# to draw a set of graphs in a unique frame and to make the visual evaluation easier.\n",
    "comp_graph_grid = slr_y_test.to_frame().reset_index(drop=True)"
   ]
  },
  {
   "cell_type": "code",
   "execution_count": 83,
   "id": "cd0968e2-218a-46a7-ba21-c67328258909",
   "metadata": {},
   "outputs": [
    {
     "name": "stdout",
     "output_type": "stream",
     "text": [
      "The test shape: (276,) , and the predicted shape: (276,) are the same!\n",
      "The mean square error of the predicted value is:  0.2410\n",
      "The trained R-square is: \t\t\t  0.0695\n",
      "The tested R-square is: \t\t\t -0.0087\n"
     ]
    }
   ],
   "source": [
    "# Model 1: Simple Linear Regression (SLR)\n",
    "\n",
    "# Checking the shapes:\n",
    "if slr_y_test.shape == slr_Yhat.shape:\n",
    "    print('The test shape:', slr_y_test.shape, ', and the predicted shape:', slr_Yhat.shape, 'are the same!')\n",
    "    \n",
    "# Let's calculate the MSE:\n",
    "slr_mse = mean_squared_error(slr_y_test, slr_Yhat)\n",
    "print('The mean square error of the predicted value is: ', \"{:.4f}\".format(slr_mse))\n",
    "\n",
    "# Let's calculate the R^2:\n",
    "slr_Rsqr_train = slr_model.score(slr_x_train, slr_y_train)\n",
    "slr_Rsqr_test = slr_model.score(slr_x_test, slr_y_test)\n",
    "print('The trained R-square is:', '\\t\\t\\t ', \"{:.4f}\".format(slr_Rsqr_train))\n",
    "print('The tested R-square is:', '\\t\\t\\t', \"{:.4f}\".format(slr_Rsqr_test))\n",
    "\n",
    "comp_meas_frame['SLR'] = [slr_mse, slr_Rsqr_test]\n",
    "comp_graph_grid['SLR_Yhat'] = slr_Yhat"
   ]
  },
  {
   "cell_type": "code",
   "execution_count": 84,
   "id": "31792a47-c832-4f10-ac61-03dcce9778e9",
   "metadata": {},
   "outputs": [
    {
     "data": {
      "text/plain": [
       "<Figure size 432x288 with 0 Axes>"
      ]
     },
     "metadata": {},
     "output_type": "display_data"
    },
    {
     "data": {
      "image/png": "[encoded data removed]",
      "text/plain": [
       "<Figure size 930.125x576 with 1 Axes>"
      ]
     },
     "metadata": {
      "needs_background": "light"
     },
     "output_type": "display_data"
    }
   ],
   "source": [
    "Title='SLR Predicted Value (Y_hat) Vs. Test Data (Y_test)'\n",
    "Xlabel = slr_y_data.to_frame().columns[0]\n",
    "Ylabel = 'Proportion of people'\n",
    "\n",
    "DistributionPlot(slr_y_test, slr_Yhat, Title, Xlabel, Ylabel)"
   ]
  },
  {
   "cell_type": "code",
   "execution_count": 85,
   "id": "f7238f2c-6400-4a09-8276-4b6c17cb23c1",
   "metadata": {},
   "outputs": [
    {
     "name": "stdout",
     "output_type": "stream",
     "text": [
      "The test shape: (276,) , and the predicted shape: (276,) are the same!\n",
      "The mean square error of the predicted value using multifit is:  0.1168\n",
      "The tested R-square is: \t\t\t\t\t 0.5114\n"
     ]
    }
   ],
   "source": [
    "# Model 2: Multiple Linear Regression (MLR)\n",
    "\n",
    "# Checking the shapes:\n",
    "if mlr_y_test.shape == mlr_Yhat.shape:\n",
    "    print('The test shape:', mlr_y_test.shape, ', and the predicted shape:', mlr_Yhat.shape, 'are the same!')\n",
    "\n",
    "# Let's calculate the MSE:\n",
    "mlr_mse = mean_squared_error(mlr_y_test, mlr_Yhat)\n",
    "print('The mean square error of the predicted value using multifit is: ', \"{:.4f}\".format(mlr_mse))\n",
    "      \n",
    "# Let's calculate the R^2:\n",
    "mlr_Rsqr_test = mlr_model.score(mlr_x_test, mlr_y_test)\n",
    "print('The tested R-square is:', '\\t\\t\\t\\t\\t', \"{:.4f}\".format(mlr_Rsqr_test))\n",
    "\n",
    "comp_meas_frame['MLR'] = [mlr_mse, mlr_Rsqr_test]\n",
    "comp_graph_grid['MLR_Yhat'] = mlr_Yhat"
   ]
  },
  {
   "cell_type": "code",
   "execution_count": 86,
   "id": "726efee9-3f3b-4415-affa-bcaf193d05e2",
   "metadata": {},
   "outputs": [
    {
     "data": {
      "text/plain": [
       "<Figure size 432x288 with 0 Axes>"
      ]
     },
     "metadata": {},
     "output_type": "display_data"
    },
    {
     "data": {
      "image/png": "[encoded data removed]",
      "text/plain": [
       "<Figure size 930.125x576 with 1 Axes>"
      ]
     },
     "metadata": {
      "needs_background": "light"
     },
     "output_type": "display_data"
    }
   ],
   "source": [
    "Title='MLR Predicted Value (Y_hat) Vs. Test Data (Y_test)'\n",
    "Xlabel = mlr_y_data.to_frame().columns[0]\n",
    "Ylabel = 'Proportion of people'\n",
    "\n",
    "DistributionPlot(mlr_y_test, mlr_Yhat, Title, Xlabel, Ylabel)"
   ]
  },
  {
   "cell_type": "code",
   "execution_count": 87,
   "id": "e87f75c8-c9af-4148-8868-871bbd6027b9",
   "metadata": {},
   "outputs": [
    {
     "name": "stdout",
     "output_type": "stream",
     "text": [
      "The test shape: (276,) , and the predicted shape: (276,) are the same!\n"
     ]
    }
   ],
   "source": [
    "# Model 3: Polynomial Regression (PLR)\n",
    "\n",
    "# Checking the shapes:\n",
    "if plr_y_test.shape == plr_Yhat.shape:\n",
    "    print('The test shape:', plr_y_test.shape, ', and the predicted shape:', plr_Yhat.shape, 'are the same!')\n",
    "\n",
    "# The for loop ahead will calculate the best order for polynomial function in order to mitigate overfitting.\n",
    "\n",
    "reg_data_plot = []\n",
    "\n",
    "for i in range(2, 12):\n",
    "    reg_data_plot.append([i, PLR_model(plr_x_data, plr_y_data, 0.3, i)[1]])"
   ]
  },
  {
   "cell_type": "code",
   "execution_count": 88,
   "id": "4f6b8bd1-f47a-4e73-9ff9-1dfcedec5ffd",
   "metadata": {},
   "outputs": [
    {
     "data": {
      "image/png": "[encoded data removed]",
      "text/plain": [
       "<Figure size 576x324 with 1 Axes>"
      ]
     },
     "metadata": {
      "needs_background": "light"
     },
     "output_type": "display_data"
    }
   ],
   "source": [
    "x = np.array(reg_data_plot).T[0]\n",
    "y = np.array(reg_data_plot).T[1]\n",
    "\n",
    "RsqrPlot('PLR', x, y, 'order')"
   ]
  },
  {
   "cell_type": "code",
   "execution_count": 89,
   "id": "b582a630-b855-4c8d-b376-4d7a216b1719",
   "metadata": {},
   "outputs": [],
   "source": [
    "best_order_fit = x[list(y).index(y.max())]"
   ]
  },
  {
   "cell_type": "code",
   "execution_count": 90,
   "id": "81486884-ccdb-4908-b29f-2e2d6b7db191",
   "metadata": {},
   "outputs": [],
   "source": [
    "# Now we can take the PLR model with parameters that best fit.\n",
    "# PLR2 means that is the 2nd order, PLR3 the 3rd order and so on:\n",
    "\n",
    "comp_meas_frame['PLR'+str(int(best_order_fit))] = PLR_model(plr_x_data, plr_y_data, 0.3, best_order_fit)\n",
    "comp_graph_grid['PLR_Yhat'] = plr_Yhat"
   ]
  },
  {
   "cell_type": "code",
   "execution_count": 91,
   "id": "73f80610-3684-4a7e-b935-ee069e163098",
   "metadata": {},
   "outputs": [
    {
     "name": "stdout",
     "output_type": "stream",
     "text": [
      "            6             5             4             3             2\n",
      "-2.713e-15 x + 4.982e-12 x - 3.439e-09 x + 1.086e-06 x - 0.0001434 x + 0.003124 x + 0.8951\n"
     ]
    }
   ],
   "source": [
    "print(plr_eqt)"
   ]
  },
  {
   "cell_type": "code",
   "execution_count": 92,
   "id": "f655e4d6-541b-4e2a-a941-4e70821d8feb",
   "metadata": {},
   "outputs": [
    {
     "name": "stdout",
     "output_type": "stream",
     "text": [
      "The mean square error of the predicted value using multifit is:  0.2326\n",
      "The tested R-square is: \t\t\t\t\t 0.0268\n"
     ]
    }
   ],
   "source": [
    "print('The mean square error of the predicted value using multifit is: ', \"{:.4f}\".format(plr_mse))\n",
    "print('The tested R-square is:', '\\t\\t\\t\\t\\t', \"{:.4f}\".format(plr_Rsqr_test))"
   ]
  },
  {
   "cell_type": "code",
   "execution_count": 93,
   "id": "764ffcea-99be-4c32-b270-85ce679740f7",
   "metadata": {},
   "outputs": [
    {
     "data": {
      "text/plain": [
       "<Figure size 432x288 with 0 Axes>"
      ]
     },
     "metadata": {},
     "output_type": "display_data"
    },
    {
     "data": {
      "image/png": "[encoded data removed]",
      "text/plain": [
       "<Figure size 930.125x576 with 1 Axes>"
      ]
     },
     "metadata": {
      "needs_background": "light"
     },
     "output_type": "display_data"
    }
   ],
   "source": [
    "Title='PLR Predicted Value (Y_hat) Vs. Test Data (Y_test)'\n",
    "Xlabel = plr_y_data.to_frame().columns[0]\n",
    "Ylabel = 'Proportion of people'\n",
    "\n",
    "DistributionPlot(plr_y_test, plr_Yhat, Title, Xlabel, Ylabel)"
   ]
  },
  {
   "cell_type": "code",
   "execution_count": 94,
   "id": "8979ce06-3dd4-4d6f-8e3c-75e0a5781a41",
   "metadata": {},
   "outputs": [
    {
     "data": {
      "image/png": "[encoded data removed]",
      "text/plain": [
       "<Figure size 576x324 with 1 Axes>"
      ]
     },
     "metadata": {
      "needs_background": "light"
     },
     "output_type": "display_data"
    }
   ],
   "source": [
    "PollyPlot(plr_x_train, plr_x_test, plr_y_train, plr_y_test, plr_eqt)"
   ]
  },
  {
   "cell_type": "code",
   "execution_count": 95,
   "id": "88def65d-e1d2-4333-a7b7-d5af5cc79723",
   "metadata": {},
   "outputs": [
    {
     "name": "stdout",
     "output_type": "stream",
     "text": [
      "The test shape: (276,) , and the predicted shape: (276,) are the same!\n",
      "The mean square error of the predicted value using multifit is:  12.8540\n",
      "The tested R-square is: \t\t\t\t\t -52.7916\n"
     ]
    }
   ],
   "source": [
    "# Model 4: Multivariate Polynomial Regression (MVP)\n",
    "\n",
    "# Checking the shapes:\n",
    "if mvp_y_test.shape == mvp_Yhat.shape:\n",
    "    print('The test shape:', mvp_y_test.shape, ', and the predicted shape:', mvp_Yhat.shape, 'are the same!')\n",
    "\n",
    "# Let's calculate the MSE:\n",
    "mvp_mse = mean_squared_error(mvp_y_test, mvp_Yhat)\n",
    "print('The mean square error of the predicted value using multifit is: ', \"{:.4f}\".format(mvp_mse))\n",
    "      \n",
    "# Let's calculate the R^2:\n",
    "mvp_Rsqr_test = mvp_model.score(mvp_x_test, mvp_y_test)\n",
    "print('The tested R-square is:', '\\t\\t\\t\\t\\t', \"{:.4f}\".format(mvp_Rsqr_test))\n",
    "\n",
    "comp_meas_frame['MVP2'] = [mvp_mse, mvp_Rsqr_test] # MVP2 means that is the 2nd order\n",
    "comp_graph_grid['MVP_Yhat'] = mvp_Yhat"
   ]
  },
  {
   "cell_type": "code",
   "execution_count": 96,
   "id": "41b408b2-d13e-4983-85bc-6d6d9b16724d",
   "metadata": {},
   "outputs": [
    {
     "data": {
      "text/plain": [
       "<Figure size 432x288 with 0 Axes>"
      ]
     },
     "metadata": {},
     "output_type": "display_data"
    },
    {
     "data": {
      "image/png": "[encoded data removed]",
      "text/plain": [
       "<Figure size 930.125x576 with 1 Axes>"
      ]
     },
     "metadata": {
      "needs_background": "light"
     },
     "output_type": "display_data"
    }
   ],
   "source": [
    "Title='MVP2 Predicted Value (Y_hat) Vs. Test Data (Y_test)'\n",
    "Xlabel = mvp_y_data.to_frame().columns[0]\n",
    "Ylabel = 'Proportion of people'\n",
    "\n",
    "DistributionPlot(mvp_y_test, mvp_Yhat, Title, Xlabel, Ylabel)"
   ]
  },
  {
   "cell_type": "code",
   "execution_count": 97,
   "id": "d2aedcde-9b85-460f-b5af-0e5f99d10d85",
   "metadata": {},
   "outputs": [
    {
     "name": "stdout",
     "output_type": "stream",
     "text": [
      "The mean square error of the predicted value is:  0.1217\n"
     ]
    }
   ],
   "source": [
    "# Model 5: Ridge Regression (RDG)\n",
    "\n",
    "# Let's calculate the MSE:\n",
    "rdg_mse = mean_squared_error(rdg_y_test, rdg_Yhat)\n",
    "print('The mean square error of the predicted value is: ', \"{:.4f}\".format(rdg_mse))"
   ]
  },
  {
   "cell_type": "code",
   "execution_count": 98,
   "id": "3f0ff964-ccd8-42bf-9f8a-d5315030fbf2",
   "metadata": {},
   "outputs": [
    {
     "name": "stderr",
     "output_type": "stream",
     "text": [
      "100%|██████████| 8/8 [00:00<00:00, 74.43it/s, Test Score=0.466, Train Score=0.563]\n"
     ]
    }
   ],
   "source": [
    "# Let's calculate the R^2:\n",
    "\n",
    "# We select the value of alpha that minimizes the test error. To do so, we can use a for loop.\n",
    "# We have also created a progress bar to see how many iterations we have completed so far.\n",
    "\n",
    "Rsqr_train = []\n",
    "rdg_Rsqr_test = []\n",
    "\n",
    "n = 8\n",
    "h_par = [10**(x-3) for x in range(n)]\n",
    "prg_bar = tqdm(h_par)\n",
    "\n",
    "for i in prg_bar:\n",
    "    rdg_model = Ridge(alpha=i) \n",
    "    rdg_model.fit(rdg_x_train, rdg_y_train)\n",
    "    train_score, test_score = rdg_model.score(rdg_x_train, rdg_y_train), rdg_model.score(rdg_x_test, rdg_y_test)\n",
    "    \n",
    "    prg_bar.set_postfix({\"Test Score\": test_score, \"Train Score\": train_score})\n",
    "    \n",
    "    Rsqr_train.append(train_score)\n",
    "    rdg_Rsqr_test.append(test_score)"
   ]
  },
  {
   "cell_type": "code",
   "execution_count": 99,
   "id": "cee21f59-2610-4325-9950-7868a03922ee",
   "metadata": {},
   "outputs": [
    {
     "name": "stdout",
     "output_type": "stream",
     "text": [
      "In alpha_max =  10 , we've got the maximum of rdg_Rsqr_test:  0.4997\n"
     ]
    }
   ],
   "source": [
    "id_Rsqr_max = rdg_Rsqr_test.index(max(rdg_Rsqr_test))\n",
    "alpha_max = h_par[id_Rsqr_max]\n",
    "print('In alpha_max = ', alpha_max, \", we've got the maximum of rdg_Rsqr_test: \",\\\n",
    "      \"{:.4f}\".format(max(rdg_Rsqr_test)))"
   ]
  },
  {
   "cell_type": "code",
   "execution_count": 100,
   "id": "857219c2-c6c0-408a-b4bd-2aebe845f6c6",
   "metadata": {},
   "outputs": [
    {
     "data": {
      "image/png": "[encoded data removed]",
      "text/plain": [
       "<Figure size 576x324 with 1 Axes>"
      ]
     },
     "metadata": {
      "needs_background": "light"
     },
     "output_type": "display_data"
    }
   ],
   "source": [
    "# We can plot out the value of R^2 for different alphas:\n",
    "\n",
    "x = np.array(h_par)\n",
    "y = np.array(rdg_Rsqr_test)\n",
    "\n",
    "RsqrPlot('RDG', x, y, 'alpha')"
   ]
  },
  {
   "cell_type": "code",
   "execution_count": 101,
   "id": "02af21f1-0e13-4a77-8146-7d816f2ffb8a",
   "metadata": {},
   "outputs": [],
   "source": [
    "# The blue line represents the R^2 on the validation data. As the value for alpha increases, the R^2 increases and\n",
    "# converges at a point called here as \"alpha_max\"."
   ]
  },
  {
   "cell_type": "code",
   "execution_count": 102,
   "id": "87d0d798-1ed6-480e-95ca-18fdae81faee",
   "metadata": {},
   "outputs": [],
   "source": [
    "comp_meas_frame['RDG'+str(alpha_max)] = [rdg_mse, max(rdg_Rsqr_test)] # RDG+\"*\" means that the best alpha is \"*\"\n",
    "comp_graph_grid['RDG_Yhat'] = rdg_Yhat"
   ]
  },
  {
   "cell_type": "code",
   "execution_count": 103,
   "id": "89584a64-c51e-4a2c-ae3b-ea9e4ef172d2",
   "metadata": {},
   "outputs": [
    {
     "data": {
      "text/plain": [
       "<Figure size 432x288 with 0 Axes>"
      ]
     },
     "metadata": {},
     "output_type": "display_data"
    },
    {
     "data": {
      "image/png": "[encoded data removed]",
      "text/plain": [
       "<Figure size 930.125x576 with 1 Axes>"
      ]
     },
     "metadata": {
      "needs_background": "light"
     },
     "output_type": "display_data"
    }
   ],
   "source": [
    "Title='RDG Predicted Value (Y_hat) Vs. Test Data (Y_test)'\n",
    "Xlabel = rdg_y_train.to_frame().columns[0]\n",
    "Ylabel = 'Proportion of people'\n",
    "\n",
    "DistributionPlot(rdg_y_test, rdg_Yhat, Title, Xlabel, Ylabel)"
   ]
  },
  {
   "cell_type": "code",
   "execution_count": 104,
   "id": "55f53c72-a927-465f-a7d9-a3afe22cae1a",
   "metadata": {},
   "outputs": [],
   "source": [
    "# Model 6: Grid Search (GRD)\n",
    "\n",
    "# Let's calculate the R^2:\n",
    "grd_mse = mean_squared_error(grd_y_test, grd_Yhat)\n",
    "\n",
    "# Let's calculate the R^2:\n",
    "grd_Rsqr_test = best_settings_fit.score(grd_x_test, grd_y_test)\n",
    "\n",
    "comp_meas_frame['GRD'+str(alpha_max)] = [grd_mse, grd_Rsqr_test] # GRD+\"*\" means that the best alpha is \"*\"\n",
    "comp_graph_grid['GRD_Yhat'] = grd_Yhat"
   ]
  },
  {
   "cell_type": "code",
   "execution_count": 105,
   "id": "5cd41f6d-22ce-4145-858b-7f448039d37e",
   "metadata": {},
   "outputs": [
    {
     "data": {
      "text/plain": [
       "<Figure size 432x288 with 0 Axes>"
      ]
     },
     "metadata": {},
     "output_type": "display_data"
    },
    {
     "data": {
      "image/png": "[encoded data removed]",
      "text/plain": [
       "<Figure size 930.125x576 with 1 Axes>"
      ]
     },
     "metadata": {
      "needs_background": "light"
     },
     "output_type": "display_data"
    }
   ],
   "source": [
    "Title='GRD Predicted Value (Y_hat) Vs. Test Data (Y_test)'\n",
    "Xlabel = grd_y_train.to_frame().columns[0]\n",
    "Ylabel = 'Proportion of people'\n",
    "\n",
    "DistributionPlot(grd_y_test, grd_Yhat, Title, Xlabel, Ylabel)"
   ]
  },
  {
   "cell_type": "code",
   "execution_count": 106,
   "id": "13565423-6ae2-4423-9449-f5f1a8661eaa",
   "metadata": {},
   "outputs": [
    {
     "data": {
      "text/html": [
       "<div>\n",
       "<style scoped>\n",
       "    .dataframe tbody tr th:only-of-type {\n",
       "        vertical-align: middle;\n",
       "    }\n",
       "\n",
       "    .dataframe tbody tr th {\n",
       "        vertical-align: top;\n",
       "    }\n",
       "\n",
       "    .dataframe thead th {\n",
       "        text-align: right;\n",
       "    }\n",
       "</style>\n",
       "<table border=\"1\" class=\"dataframe\">\n",
       "  <thead>\n",
       "    <tr style=\"text-align: right;\">\n",
       "      <th></th>\n",
       "      <th>MeanSquareError</th>\n",
       "      <th>rSquared</th>\n",
       "    </tr>\n",
       "  </thead>\n",
       "  <tbody>\n",
       "    <tr>\n",
       "      <th>MLR</th>\n",
       "      <td>0.116762</td>\n",
       "      <td>0.511376</td>\n",
       "    </tr>\n",
       "    <tr>\n",
       "      <th>GRD10</th>\n",
       "      <td>0.116778</td>\n",
       "      <td>0.511305</td>\n",
       "    </tr>\n",
       "    <tr>\n",
       "      <th>RDG10</th>\n",
       "      <td>0.121657</td>\n",
       "      <td>0.499733</td>\n",
       "    </tr>\n",
       "    <tr>\n",
       "      <th>PLR6</th>\n",
       "      <td>0.232563</td>\n",
       "      <td>0.026771</td>\n",
       "    </tr>\n",
       "    <tr>\n",
       "      <th>SLR</th>\n",
       "      <td>0.241050</td>\n",
       "      <td>NaN</td>\n",
       "    </tr>\n",
       "    <tr>\n",
       "      <th>MVP2</th>\n",
       "      <td>12.854018</td>\n",
       "      <td>NaN</td>\n",
       "    </tr>\n",
       "  </tbody>\n",
       "</table>\n",
       "</div>"
      ],
      "text/plain": [
       "       MeanSquareError  rSquared\n",
       "MLR           0.116762  0.511376\n",
       "GRD10         0.116778  0.511305\n",
       "RDG10         0.121657  0.499733\n",
       "PLR6          0.232563  0.026771\n",
       "SLR           0.241050       NaN\n",
       "MVP2         12.854018       NaN"
      ]
     },
     "execution_count": 106,
     "metadata": {},
     "output_type": "execute_result"
    }
   ],
   "source": [
    "# All models listed below are ranked by better R-square.\n",
    "# The lower the R^2, the worse the model. A negative R^2 is a sign of overfitting.\n",
    "# Because of it the negative numbers were excluded.\n",
    "\n",
    "comp_meas_frame.T.sort_values(by=['rSquared'], ascending=False).where(comp_meas_frame.T.sort_values(by=['rSquared'], ascending=False) > 0)"
   ]
  },
  {
   "cell_type": "code",
   "execution_count": 107,
   "id": "a2dad042-602e-408a-98df-e8f6ad575f50",
   "metadata": {},
   "outputs": [
    {
     "data": {
      "text/html": [
       "<div>\n",
       "<style scoped>\n",
       "    .dataframe tbody tr th:only-of-type {\n",
       "        vertical-align: middle;\n",
       "    }\n",
       "\n",
       "    .dataframe tbody tr th {\n",
       "        vertical-align: top;\n",
       "    }\n",
       "\n",
       "    .dataframe thead th {\n",
       "        text-align: right;\n",
       "    }\n",
       "</style>\n",
       "<table border=\"1\" class=\"dataframe\">\n",
       "  <thead>\n",
       "    <tr style=\"text-align: right;\">\n",
       "      <th></th>\n",
       "      <th>HeartDisease</th>\n",
       "      <th>SLR_Yhat</th>\n",
       "      <th>MLR_Yhat</th>\n",
       "      <th>PLR_Yhat</th>\n",
       "      <th>MVP_Yhat</th>\n",
       "      <th>RDG_Yhat</th>\n",
       "      <th>GRD_Yhat</th>\n",
       "    </tr>\n",
       "  </thead>\n",
       "  <tbody>\n",
       "    <tr>\n",
       "      <th>0</th>\n",
       "      <td>1</td>\n",
       "      <td>0.388446</td>\n",
       "      <td>0.994397</td>\n",
       "      <td>0.450045</td>\n",
       "      <td>-10.585751</td>\n",
       "      <td>0.767081</td>\n",
       "      <td>0.994338</td>\n",
       "    </tr>\n",
       "    <tr>\n",
       "      <th>1</th>\n",
       "      <td>1</td>\n",
       "      <td>0.500607</td>\n",
       "      <td>1.104718</td>\n",
       "      <td>0.428967</td>\n",
       "      <td>2.025987</td>\n",
       "      <td>0.772325</td>\n",
       "      <td>1.103428</td>\n",
       "    </tr>\n",
       "    <tr>\n",
       "      <th>2</th>\n",
       "      <td>1</td>\n",
       "      <td>0.412059</td>\n",
       "      <td>0.970271</td>\n",
       "      <td>0.435192</td>\n",
       "      <td>1.561427</td>\n",
       "      <td>1.191267</td>\n",
       "      <td>0.970312</td>\n",
       "    </tr>\n",
       "    <tr>\n",
       "      <th>3</th>\n",
       "      <td>1</td>\n",
       "      <td>0.427407</td>\n",
       "      <td>0.858477</td>\n",
       "      <td>0.428516</td>\n",
       "      <td>0.312809</td>\n",
       "      <td>0.886011</td>\n",
       "      <td>0.857998</td>\n",
       "    </tr>\n",
       "    <tr>\n",
       "      <th>4</th>\n",
       "      <td>1</td>\n",
       "      <td>0.763889</td>\n",
       "      <td>0.750747</td>\n",
       "      <td>0.871904</td>\n",
       "      <td>5.598534</td>\n",
       "      <td>0.346354</td>\n",
       "      <td>0.751772</td>\n",
       "    </tr>\n",
       "  </tbody>\n",
       "</table>\n",
       "</div>"
      ],
      "text/plain": [
       "   HeartDisease  SLR_Yhat  MLR_Yhat  PLR_Yhat   MVP_Yhat  RDG_Yhat  GRD_Yhat\n",
       "0             1  0.388446  0.994397  0.450045 -10.585751  0.767081  0.994338\n",
       "1             1  0.500607  1.104718  0.428967   2.025987  0.772325  1.103428\n",
       "2             1  0.412059  0.970271  0.435192   1.561427  1.191267  0.970312\n",
       "3             1  0.427407  0.858477  0.428516   0.312809  0.886011  0.857998\n",
       "4             1  0.763889  0.750747  0.871904   5.598534  0.346354  0.751772"
      ]
     },
     "execution_count": 107,
     "metadata": {},
     "output_type": "execute_result"
    }
   ],
   "source": [
    "comp_graph_grid.head()"
   ]
  },
  {
   "cell_type": "code",
   "execution_count": 108,
   "id": "b9d68cdd-e78d-468a-814c-29a199d17753",
   "metadata": {},
   "outputs": [],
   "source": [
    "comp_graph_grid = comp_graph_grid.drop(columns=['SLR_Yhat', 'MVP_Yhat'])"
   ]
  },
  {
   "cell_type": "code",
   "execution_count": 109,
   "id": "26fe67fe-a1bb-44bc-8162-5f91e7dfa6c3",
   "metadata": {},
   "outputs": [
    {
     "data": {
      "text/plain": [
       "<seaborn.axisgrid.FacetGrid at 0x7f3c7b5b7550>"
      ]
     },
     "execution_count": 109,
     "metadata": {},
     "output_type": "execute_result"
    },
    {
     "data": {
      "image/png": "[encoded data removed]",
      "text/plain": [
       "<Figure size 967.25x576 with 1 Axes>"
      ]
     },
     "metadata": {
      "needs_background": "light"
     },
     "output_type": "display_data"
    }
   ],
   "source": [
    "sns.displot(data=comp_graph_grid, kde=True, height=8, aspect=1.5)"
   ]
  },
  {
   "cell_type": "code",
   "execution_count": 110,
   "id": "e7d77fc3-f8af-483e-89de-90a89d29039e",
   "metadata": {},
   "outputs": [],
   "source": [
    "graph_grid_melt = comp_graph_grid.melt( ['HeartDisease'], var_name='model',  value_name='y_hat')"
   ]
  },
  {
   "cell_type": "code",
   "execution_count": 111,
   "id": "0a897b35-78f4-459e-8984-a4baa85ee283",
   "metadata": {},
   "outputs": [
    {
     "data": {
      "image/png": "[encoded data removed]",
      "text/plain": [
       "<Figure size 720x720 with 4 Axes>"
      ]
     },
     "metadata": {
      "needs_background": "light"
     },
     "output_type": "display_data"
    }
   ],
   "source": [
    "g = sns.FacetGrid(graph_grid_melt, col='model', height=5, col_wrap=2)\n",
    "g = (g.map(sns.histplot, \"y_hat\", kde=True))"
   ]
  },
  {
   "cell_type": "markdown",
   "id": "491baffe-ad34-4424-85f0-e42bd4b7c5c8",
   "metadata": {},
   "source": [
    "[top](#Table-of-Contents)\n",
    "<h3>Decision Making: Determining a Good Model Fit</h3>\n",
    "<details><summary></summary>\n",
    "\n",
    "\n",
    "</details>"
   ]
  },
  {
   "cell_type": "markdown",
   "id": "116c940d-d918-4fe2-a8cf-b0a9f6d6cdfa",
   "metadata": {},
   "source": [
    "<p>Now that we have visualized the different models, and generated the R-squared and MSE values for the fits, how do we determine a good model fit?\n",
    "<ul>\n",
    "    <li><i>What is a good R-squared value?</i></li>\n",
    "</ul>\n",
    "</p>\n",
    "\n",
    "<p>When comparing models, <b>the model with the higher R-squared value is a better fit</b> for the data.\n",
    "<ul>\n",
    "    <li><i>What is a good MSE?</i></li>\n",
    "</ul>\n",
    "</p>\n",
    "\n",
    "<p>When comparing models, <b>the model with the smallest MSE value is a better fit</b> for the data.</p>"
   ]
  },
  {
   "cell_type": "code",
   "execution_count": 112,
   "id": "2c24c2b5-03b3-47ca-bc6b-4732f2f00537",
   "metadata": {},
   "outputs": [
    {
     "data": {
      "text/html": [
       "<div>\n",
       "<style scoped>\n",
       "    .dataframe tbody tr th:only-of-type {\n",
       "        vertical-align: middle;\n",
       "    }\n",
       "\n",
       "    .dataframe tbody tr th {\n",
       "        vertical-align: top;\n",
       "    }\n",
       "\n",
       "    .dataframe thead th {\n",
       "        text-align: right;\n",
       "    }\n",
       "</style>\n",
       "<table border=\"1\" class=\"dataframe\">\n",
       "  <thead>\n",
       "    <tr style=\"text-align: right;\">\n",
       "      <th></th>\n",
       "      <th>MeanSquareError</th>\n",
       "      <th>rSquared</th>\n",
       "    </tr>\n",
       "  </thead>\n",
       "  <tbody>\n",
       "    <tr>\n",
       "      <th>MLR</th>\n",
       "      <td>0.116762</td>\n",
       "      <td>0.511376</td>\n",
       "    </tr>\n",
       "    <tr>\n",
       "      <th>GRD10</th>\n",
       "      <td>0.116778</td>\n",
       "      <td>0.511305</td>\n",
       "    </tr>\n",
       "    <tr>\n",
       "      <th>RDG10</th>\n",
       "      <td>0.121657</td>\n",
       "      <td>0.499733</td>\n",
       "    </tr>\n",
       "    <tr>\n",
       "      <th>PLR6</th>\n",
       "      <td>0.232563</td>\n",
       "      <td>0.026771</td>\n",
       "    </tr>\n",
       "    <tr>\n",
       "      <th>SLR</th>\n",
       "      <td>0.241050</td>\n",
       "      <td>NaN</td>\n",
       "    </tr>\n",
       "    <tr>\n",
       "      <th>MVP2</th>\n",
       "      <td>12.854018</td>\n",
       "      <td>NaN</td>\n",
       "    </tr>\n",
       "  </tbody>\n",
       "</table>\n",
       "</div>"
      ],
      "text/plain": [
       "       MeanSquareError  rSquared\n",
       "MLR           0.116762  0.511376\n",
       "GRD10         0.116778  0.511305\n",
       "RDG10         0.121657  0.499733\n",
       "PLR6          0.232563  0.026771\n",
       "SLR           0.241050       NaN\n",
       "MVP2         12.854018       NaN"
      ]
     },
     "execution_count": 112,
     "metadata": {},
     "output_type": "execute_result"
    }
   ],
   "source": [
    "# All models listed below are ranked by better R-square.\n",
    "# The lower the R^2, the worse the model. A negative R^2 is a sign of overfitting.\n",
    "# Because of it the negative numbers were excluded.\n",
    "\n",
    "comp_meas_frame.T.sort_values(by=['rSquared'], ascending=False).where(comp_meas_frame.T.sort_values(by=['rSquared'], ascending=False) > 0)"
   ]
  },
  {
   "cell_type": "markdown",
   "id": "5490d514-7f87-4f9b-a934-d8783d61a310",
   "metadata": {
    "tags": []
   },
   "source": [
    "<h4>Multiple Linear Regression Model (MLR) vs. Grid Search Model (GRD)</h4>\n",
    "\n",
    "\n",
    "<p>Usually, the more variables you have, the better your model is at predicting, but this is not always true. Sometimes you may not have enough data, you may run into numerical problems, or many of the variables may not be useful and even act as noise. As a result, you should always check the MSE and R^2.</p>\n",
    "\n",
    "<p>In order to compare the results of the MLR vs GRD models, we look at a combination of both the R-squared and MSE to make the best conclusion about the fit of the model.\n",
    "<ul>\n",
    "    <li><b>MSE</b>: The MSE of MLR is  0.116762  while GRD has an MSE of 0.116778. </li>\n",
    "    <li><b>R-squared</b>: In this case, we can also see that there is a very small difference between the the two models.</li>\n",
    "</ul>\n",
    "\n",
    "The MLR's value and the GRD's are almost the same. And the R-squared between them, there is only difference from the fourth decimal place.\n",
    "</p>"
   ]
  },
  {
   "cell_type": "markdown",
   "id": "19f90731-3277-49f1-8fa8-bd22be0a72a9",
   "metadata": {},
   "source": [
    "[top](#Table-of-Contents)\n",
    "<h3>Conclusion</h3>\n",
    "<details><summary></summary>\n",
    "\n",
    "Comparing all these models, we conclude that the MLR model may be is the best one if we looking for features like easy to code and low complexity of own parameters.\n",
    "\n",
    "This result makes sense since we've got a set with more than one independent variables and, being all of those variables potential predictors of the heart disease.\n",
    "\n",
    "</details>"
   ]
  },
  {
   "cell_type": "markdown",
   "id": "698986f4-c48f-4f88-a4b1-af7483941c35",
   "metadata": {},
   "source": [
    "[top](#Table-of-Contents)\n",
    "<h3>Suggestions to further labs</h3>\n",
    "<details><summary></summary>\n",
    "\n",
    "We can see that the fitted values are not reasonably close to the actual values since the best distribution didn't overlap the original curve on distribution plot. However, there is definitely some room for improvement.\n",
    "\n",
    "So, I would like to suggest some basic topics to investigate how they influence the behavior of all models and how to choose the closest to reality.\n",
    "    - which independent variable has the best coorelation with the target and how much the models behaves different with that;\n",
    "    - what is the influence of:\n",
    "        - the dataset test size on the development;\n",
    "        - the number of folds for cross validation;\n",
    "        - other models that can read and adjust features better;\n",
    "        - even another approach that would be more appropriate to choose the pair dataset-model.\n",
    "\n",
    "</details>"
   ]
  },
  {
   "cell_type": "markdown",
   "id": "ca8aa2ae-a819-4c69-ab40-d0a334fbe5cf",
   "metadata": {},
   "source": [
    "[top](#Table-of-Contents)\n",
    "\n",
    "<hr>\n",
    "\n",
    "<h3>Author</h3>\n",
    "\n",
    "<a href=\"https://www.linkedin.com/in/rene-santos-pro/\" target=\"_blank\">Renê Santos</a>\n",
    "\n",
    "<h3>Change Log</h3>\n",
    "\n",
    "| Date (YYYY-MM-DD) | Version | Changed By | Description                         |\n",
    "| ----------------- | ------- | ---------- | ----------------------------------- |\n",
    "| 2021-12-31        | 1.0     | Rene       | First Published                     |\n",
    "|                   |         |            |                                     |\n",
    "\n",
    "<p>.</p>\n",
    "\n",
    "<p>.</p>\n",
    "\n",
    "<p>* Project based on IBM-Cognitive_Class, Python Project Course, offered by Coursera. Contributors of primary notebook:</p>\n",
    "\n",
    "<a href=\"https://www.linkedin.com/in/joseph-s-50398b136/?utm_medium=Exinfluencer&utm_source=Exinfluencer&utm_content=000026UJ&utm_term=10006555&utm_id=NA-SkillsNetwork-Channel-SkillsNetworkCoursesIBMDeveloperSkillsNetworkDA0101ENSkillsNetwork20235326-2021-01-01\" target=\"_blank\">Joseph Santarcangelo</a>, <a href=\"https://www.linkedin.com/in/mahdi-noorian-58219234/?utm_medium=Exinfluencer&utm_source=Exinfluencer&utm_content=000026UJ&utm_term=10006555&utm_id=NA-SkillsNetwork-Channel-SkillsNetworkCoursesIBMDeveloperSkillsNetworkDA0101ENSkillsNetwork20235326-2021-01-01\" target=\"_blank\">Mahdi Noorian PhD</a>, Bahare Talayian, Eric Xiao, Steven Dong, Parizad, Hima Vasudevan, <a href=\"https://www.linkedin.com/in/fiorellawever/?utm_medium=Exinfluencer&utm_source=Exinfluencer&utm_content=000026UJ&utm_term=10006555&utm_id=NA-SkillsNetwork-Channel-SkillsNetworkCoursesIBMDeveloperSkillsNetworkDA0101ENSkillsNetwork20235326-2021-01-01\" target=\"_blank\">Fiorella Wenver</a>, <a href=\"https:// https://www.linkedin.com/in/yi-leng-yao-84451275/ \" target=\"_blank\" >Yi Yao</a>.\n",
    "\n",
    "\n",
    "<h4 align=\"center\"> ©. All rights reserved. </h4>"
   ]
  }
 ],
 "metadata": {
  "kernelspec": {
   "display_name": "Python 3",
   "language": "python",
   "name": "python3"
  },
  "language_info": {
   "codemirror_mode": {
    "name": "ipython",
    "version": 3
   },
   "file_extension": ".py",
   "mimetype": "text/x-python",
   "name": "python",
   "nbconvert_exporter": "python",
   "pygments_lexer": "ipython3",
   "version": "3.8.8"
  },
  "toc-autonumbering": false,
  "toc-showcode": false,
  "toc-showmarkdowntxt": false,
  "toc-showtags": false
 },
 "nbformat": 4,
 "nbformat_minor": 5
}
